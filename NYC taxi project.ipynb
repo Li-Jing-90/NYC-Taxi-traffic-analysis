{
 "cells": [
  {
   "cell_type": "code",
   "execution_count": 1,
   "metadata": {},
   "outputs": [
    {
     "name": "stdout",
     "output_type": "stream",
     "text": [
      "(976467, 19)\n",
      "CPU times: user 3.15 s, sys: 1.01 s, total: 4.16 s\n",
      "Wall time: 15.4 s\n"
     ]
    }
   ],
   "source": [
    "%%time\n",
    "import pandas as pd  # panal data analysis   dataframe\n",
    "year, month = 2017, 6\n",
    "url = \"https://s3.amazonaws.com/nyc-tlc/trip+data/green_tripdata_%4d-%02d.csv\" % (year,month)\n",
    "df = pd.read_csv(url)\n",
    "print(df.shape)"
   ]
  },
  {
   "cell_type": "code",
   "execution_count": 2,
   "metadata": {},
   "outputs": [
    {
     "name": "stdout",
     "output_type": "stream",
     "text": [
      "(976467, 19)\n",
      "CPU times: user 2.52 s, sys: 770 ms, total: 3.29 s\n",
      "Wall time: 15.5 s\n"
     ]
    }
   ],
   "source": [
    "%%time\n",
    "import pandas as pd  # panal data analysis   dataframe\n",
    "year, month = 2017, 6\n",
    "url = \"https://s3.amazonaws.com/nyc-tlc/trip+data/green_tripdata_%4d-%02d.csv\" % (year,month)\n",
    "df = pd.read_csv(url)\n",
    "print(df.shape)"
   ]
  },
  {
   "cell_type": "code",
   "execution_count": 3,
   "metadata": {},
   "outputs": [],
   "source": [
    "# exploratory data analysis EDA"
   ]
  },
  {
   "cell_type": "code",
   "execution_count": 2,
   "metadata": {},
   "outputs": [
    {
     "data": {
      "text/html": [
       "<div>\n",
       "<style scoped>\n",
       "    .dataframe tbody tr th:only-of-type {\n",
       "        vertical-align: middle;\n",
       "    }\n",
       "\n",
       "    .dataframe tbody tr th {\n",
       "        vertical-align: top;\n",
       "    }\n",
       "\n",
       "    .dataframe thead th {\n",
       "        text-align: right;\n",
       "    }\n",
       "</style>\n",
       "<table border=\"1\" class=\"dataframe\">\n",
       "  <thead>\n",
       "    <tr style=\"text-align: right;\">\n",
       "      <th></th>\n",
       "      <th>VendorID</th>\n",
       "      <th>lpep_pickup_datetime</th>\n",
       "      <th>lpep_dropoff_datetime</th>\n",
       "      <th>store_and_fwd_flag</th>\n",
       "      <th>RatecodeID</th>\n",
       "      <th>PULocationID</th>\n",
       "      <th>DOLocationID</th>\n",
       "      <th>passenger_count</th>\n",
       "      <th>trip_distance</th>\n",
       "      <th>fare_amount</th>\n",
       "      <th>extra</th>\n",
       "      <th>mta_tax</th>\n",
       "      <th>tip_amount</th>\n",
       "      <th>tolls_amount</th>\n",
       "      <th>ehail_fee</th>\n",
       "      <th>improvement_surcharge</th>\n",
       "      <th>total_amount</th>\n",
       "      <th>payment_type</th>\n",
       "      <th>trip_type</th>\n",
       "    </tr>\n",
       "  </thead>\n",
       "  <tbody>\n",
       "    <tr>\n",
       "      <td>0</td>\n",
       "      <td>2</td>\n",
       "      <td>2017-06-01 00:33:45</td>\n",
       "      <td>2017-06-01 01:39:52</td>\n",
       "      <td>N</td>\n",
       "      <td>4</td>\n",
       "      <td>35</td>\n",
       "      <td>265</td>\n",
       "      <td>1</td>\n",
       "      <td>90.41</td>\n",
       "      <td>404.5</td>\n",
       "      <td>0.5</td>\n",
       "      <td>0.5</td>\n",
       "      <td>0.00</td>\n",
       "      <td>5.76</td>\n",
       "      <td>NaN</td>\n",
       "      <td>0.3</td>\n",
       "      <td>413.51</td>\n",
       "      <td>2</td>\n",
       "      <td>1.0</td>\n",
       "    </tr>\n",
       "    <tr>\n",
       "      <td>1</td>\n",
       "      <td>2</td>\n",
       "      <td>2017-06-01 00:33:55</td>\n",
       "      <td>2017-06-01 23:36:23</td>\n",
       "      <td>N</td>\n",
       "      <td>1</td>\n",
       "      <td>263</td>\n",
       "      <td>75</td>\n",
       "      <td>1</td>\n",
       "      <td>0.38</td>\n",
       "      <td>4.0</td>\n",
       "      <td>0.5</td>\n",
       "      <td>0.5</td>\n",
       "      <td>1.59</td>\n",
       "      <td>0.00</td>\n",
       "      <td>NaN</td>\n",
       "      <td>0.3</td>\n",
       "      <td>6.89</td>\n",
       "      <td>1</td>\n",
       "      <td>1.0</td>\n",
       "    </tr>\n",
       "    <tr>\n",
       "      <td>2</td>\n",
       "      <td>2</td>\n",
       "      <td>2017-06-01 00:12:07</td>\n",
       "      <td>2017-06-01 00:12:07</td>\n",
       "      <td>N</td>\n",
       "      <td>1</td>\n",
       "      <td>255</td>\n",
       "      <td>43</td>\n",
       "      <td>1</td>\n",
       "      <td>9.49</td>\n",
       "      <td>31.0</td>\n",
       "      <td>0.5</td>\n",
       "      <td>0.5</td>\n",
       "      <td>8.08</td>\n",
       "      <td>0.00</td>\n",
       "      <td>NaN</td>\n",
       "      <td>0.3</td>\n",
       "      <td>40.38</td>\n",
       "      <td>1</td>\n",
       "      <td>1.0</td>\n",
       "    </tr>\n",
       "    <tr>\n",
       "      <td>3</td>\n",
       "      <td>2</td>\n",
       "      <td>2017-06-01 00:17:26</td>\n",
       "      <td>2017-06-01 00:20:01</td>\n",
       "      <td>N</td>\n",
       "      <td>1</td>\n",
       "      <td>256</td>\n",
       "      <td>256</td>\n",
       "      <td>1</td>\n",
       "      <td>0.59</td>\n",
       "      <td>4.0</td>\n",
       "      <td>0.5</td>\n",
       "      <td>0.5</td>\n",
       "      <td>1.06</td>\n",
       "      <td>0.00</td>\n",
       "      <td>NaN</td>\n",
       "      <td>0.3</td>\n",
       "      <td>6.36</td>\n",
       "      <td>1</td>\n",
       "      <td>1.0</td>\n",
       "    </tr>\n",
       "    <tr>\n",
       "      <td>4</td>\n",
       "      <td>2</td>\n",
       "      <td>2017-06-01 00:17:22</td>\n",
       "      <td>2017-06-01 00:24:21</td>\n",
       "      <td>N</td>\n",
       "      <td>1</td>\n",
       "      <td>130</td>\n",
       "      <td>135</td>\n",
       "      <td>3</td>\n",
       "      <td>2.08</td>\n",
       "      <td>8.5</td>\n",
       "      <td>0.5</td>\n",
       "      <td>0.5</td>\n",
       "      <td>0.00</td>\n",
       "      <td>0.00</td>\n",
       "      <td>NaN</td>\n",
       "      <td>0.3</td>\n",
       "      <td>9.80</td>\n",
       "      <td>2</td>\n",
       "      <td>1.0</td>\n",
       "    </tr>\n",
       "    <tr>\n",
       "      <td>5</td>\n",
       "      <td>2</td>\n",
       "      <td>2017-06-01 00:39:41</td>\n",
       "      <td>2017-06-01 00:42:17</td>\n",
       "      <td>N</td>\n",
       "      <td>1</td>\n",
       "      <td>256</td>\n",
       "      <td>255</td>\n",
       "      <td>1</td>\n",
       "      <td>0.57</td>\n",
       "      <td>4.0</td>\n",
       "      <td>0.5</td>\n",
       "      <td>0.5</td>\n",
       "      <td>1.32</td>\n",
       "      <td>0.00</td>\n",
       "      <td>NaN</td>\n",
       "      <td>0.3</td>\n",
       "      <td>6.62</td>\n",
       "      <td>1</td>\n",
       "      <td>1.0</td>\n",
       "    </tr>\n",
       "    <tr>\n",
       "      <td>6</td>\n",
       "      <td>2</td>\n",
       "      <td>2017-06-01 00:37:31</td>\n",
       "      <td>2017-06-01 00:47:38</td>\n",
       "      <td>N</td>\n",
       "      <td>1</td>\n",
       "      <td>66</td>\n",
       "      <td>148</td>\n",
       "      <td>1</td>\n",
       "      <td>2.30</td>\n",
       "      <td>10.0</td>\n",
       "      <td>0.5</td>\n",
       "      <td>0.5</td>\n",
       "      <td>2.26</td>\n",
       "      <td>0.00</td>\n",
       "      <td>NaN</td>\n",
       "      <td>0.3</td>\n",
       "      <td>13.56</td>\n",
       "      <td>1</td>\n",
       "      <td>1.0</td>\n",
       "    </tr>\n",
       "    <tr>\n",
       "      <td>7</td>\n",
       "      <td>2</td>\n",
       "      <td>2017-06-01 00:37:05</td>\n",
       "      <td>2017-06-01 00:52:48</td>\n",
       "      <td>N</td>\n",
       "      <td>1</td>\n",
       "      <td>256</td>\n",
       "      <td>40</td>\n",
       "      <td>5</td>\n",
       "      <td>4.85</td>\n",
       "      <td>16.5</td>\n",
       "      <td>0.5</td>\n",
       "      <td>0.5</td>\n",
       "      <td>3.56</td>\n",
       "      <td>0.00</td>\n",
       "      <td>NaN</td>\n",
       "      <td>0.3</td>\n",
       "      <td>21.36</td>\n",
       "      <td>1</td>\n",
       "      <td>1.0</td>\n",
       "    </tr>\n",
       "    <tr>\n",
       "      <td>8</td>\n",
       "      <td>2</td>\n",
       "      <td>2017-06-01 00:02:16</td>\n",
       "      <td>2017-06-01 00:02:46</td>\n",
       "      <td>N</td>\n",
       "      <td>1</td>\n",
       "      <td>166</td>\n",
       "      <td>152</td>\n",
       "      <td>1</td>\n",
       "      <td>0.10</td>\n",
       "      <td>2.5</td>\n",
       "      <td>0.5</td>\n",
       "      <td>0.5</td>\n",
       "      <td>0.00</td>\n",
       "      <td>0.00</td>\n",
       "      <td>NaN</td>\n",
       "      <td>0.3</td>\n",
       "      <td>3.80</td>\n",
       "      <td>2</td>\n",
       "      <td>1.0</td>\n",
       "    </tr>\n",
       "    <tr>\n",
       "      <td>9</td>\n",
       "      <td>2</td>\n",
       "      <td>2017-06-01 00:00:38</td>\n",
       "      <td>2017-06-01 00:04:38</td>\n",
       "      <td>N</td>\n",
       "      <td>1</td>\n",
       "      <td>196</td>\n",
       "      <td>95</td>\n",
       "      <td>1</td>\n",
       "      <td>1.26</td>\n",
       "      <td>6.0</td>\n",
       "      <td>0.5</td>\n",
       "      <td>0.5</td>\n",
       "      <td>1.82</td>\n",
       "      <td>0.00</td>\n",
       "      <td>NaN</td>\n",
       "      <td>0.3</td>\n",
       "      <td>9.12</td>\n",
       "      <td>1</td>\n",
       "      <td>1.0</td>\n",
       "    </tr>\n",
       "  </tbody>\n",
       "</table>\n",
       "</div>"
      ],
      "text/plain": [
       "   VendorID lpep_pickup_datetime lpep_dropoff_datetime store_and_fwd_flag  \\\n",
       "0         2  2017-06-01 00:33:45   2017-06-01 01:39:52                  N   \n",
       "1         2  2017-06-01 00:33:55   2017-06-01 23:36:23                  N   \n",
       "2         2  2017-06-01 00:12:07   2017-06-01 00:12:07                  N   \n",
       "3         2  2017-06-01 00:17:26   2017-06-01 00:20:01                  N   \n",
       "4         2  2017-06-01 00:17:22   2017-06-01 00:24:21                  N   \n",
       "5         2  2017-06-01 00:39:41   2017-06-01 00:42:17                  N   \n",
       "6         2  2017-06-01 00:37:31   2017-06-01 00:47:38                  N   \n",
       "7         2  2017-06-01 00:37:05   2017-06-01 00:52:48                  N   \n",
       "8         2  2017-06-01 00:02:16   2017-06-01 00:02:46                  N   \n",
       "9         2  2017-06-01 00:00:38   2017-06-01 00:04:38                  N   \n",
       "\n",
       "   RatecodeID  PULocationID  DOLocationID  passenger_count  trip_distance  \\\n",
       "0           4            35           265                1          90.41   \n",
       "1           1           263            75                1           0.38   \n",
       "2           1           255            43                1           9.49   \n",
       "3           1           256           256                1           0.59   \n",
       "4           1           130           135                3           2.08   \n",
       "5           1           256           255                1           0.57   \n",
       "6           1            66           148                1           2.30   \n",
       "7           1           256            40                5           4.85   \n",
       "8           1           166           152                1           0.10   \n",
       "9           1           196            95                1           1.26   \n",
       "\n",
       "   fare_amount  extra  mta_tax  tip_amount  tolls_amount  ehail_fee  \\\n",
       "0        404.5    0.5      0.5        0.00          5.76        NaN   \n",
       "1          4.0    0.5      0.5        1.59          0.00        NaN   \n",
       "2         31.0    0.5      0.5        8.08          0.00        NaN   \n",
       "3          4.0    0.5      0.5        1.06          0.00        NaN   \n",
       "4          8.5    0.5      0.5        0.00          0.00        NaN   \n",
       "5          4.0    0.5      0.5        1.32          0.00        NaN   \n",
       "6         10.0    0.5      0.5        2.26          0.00        NaN   \n",
       "7         16.5    0.5      0.5        3.56          0.00        NaN   \n",
       "8          2.5    0.5      0.5        0.00          0.00        NaN   \n",
       "9          6.0    0.5      0.5        1.82          0.00        NaN   \n",
       "\n",
       "   improvement_surcharge  total_amount  payment_type  trip_type  \n",
       "0                    0.3        413.51             2        1.0  \n",
       "1                    0.3          6.89             1        1.0  \n",
       "2                    0.3         40.38             1        1.0  \n",
       "3                    0.3          6.36             1        1.0  \n",
       "4                    0.3          9.80             2        1.0  \n",
       "5                    0.3          6.62             1        1.0  \n",
       "6                    0.3         13.56             1        1.0  \n",
       "7                    0.3         21.36             1        1.0  \n",
       "8                    0.3          3.80             2        1.0  \n",
       "9                    0.3          9.12             1        1.0  "
      ]
     },
     "execution_count": 2,
     "metadata": {},
     "output_type": "execute_result"
    }
   ],
   "source": [
    "df.head(10)  # head, sample, tail"
   ]
  },
  {
   "cell_type": "code",
   "execution_count": 3,
   "metadata": {},
   "outputs": [
    {
     "data": {
      "text/plain": [
       "RangeIndex(start=0, stop=976467, step=1)"
      ]
     },
     "execution_count": 3,
     "metadata": {},
     "output_type": "execute_result"
    }
   ],
   "source": [
    "df.index  # row number is default"
   ]
  },
  {
   "cell_type": "code",
   "execution_count": 4,
   "metadata": {},
   "outputs": [],
   "source": [
    "# wide/long format tidy data: each row is a record, each column is an observation"
   ]
  },
  {
   "cell_type": "code",
   "execution_count": 5,
   "metadata": {},
   "outputs": [
    {
     "data": {
      "text/plain": [
       "Index(['VendorID', 'lpep_pickup_datetime', 'lpep_dropoff_datetime',\n",
       "       'store_and_fwd_flag', 'RatecodeID', 'PULocationID', 'DOLocationID',\n",
       "       'passenger_count', 'trip_distance', 'fare_amount', 'extra', 'mta_tax',\n",
       "       'tip_amount', 'tolls_amount', 'ehail_fee', 'improvement_surcharge',\n",
       "       'total_amount', 'payment_type', 'trip_type'],\n",
       "      dtype='object')"
      ]
     },
     "execution_count": 5,
     "metadata": {},
     "output_type": "execute_result"
    }
   ],
   "source": [
    "df.columns  # df.rename()"
   ]
  },
  {
   "cell_type": "code",
   "execution_count": 6,
   "metadata": {},
   "outputs": [
    {
     "data": {
      "text/plain": [
       "VendorID                   int64\n",
       "lpep_pickup_datetime      object\n",
       "lpep_dropoff_datetime     object\n",
       "store_and_fwd_flag        object\n",
       "RatecodeID                 int64\n",
       "PULocationID               int64\n",
       "DOLocationID               int64\n",
       "passenger_count            int64\n",
       "trip_distance            float64\n",
       "fare_amount              float64\n",
       "extra                    float64\n",
       "mta_tax                  float64\n",
       "tip_amount               float64\n",
       "tolls_amount             float64\n",
       "ehail_fee                float64\n",
       "improvement_surcharge    float64\n",
       "total_amount             float64\n",
       "payment_type               int64\n",
       "trip_type                float64\n",
       "dtype: object"
      ]
     },
     "execution_count": 6,
     "metadata": {},
     "output_type": "execute_result"
    }
   ],
   "source": [
    "df.dtypes"
   ]
  },
  {
   "cell_type": "code",
   "execution_count": 7,
   "metadata": {},
   "outputs": [
    {
     "data": {
      "text/plain": [
       "2.84222923733382"
      ]
     },
     "execution_count": 7,
     "metadata": {},
     "output_type": "execute_result"
    }
   ],
   "source": [
    "df['trip_distance'].std()  #     10 11 9 8 10000000"
   ]
  },
  {
   "cell_type": "code",
   "execution_count": 8,
   "metadata": {},
   "outputs": [
    {
     "data": {
      "text/plain": [
       "2.7066970414769953"
      ]
     },
     "execution_count": 8,
     "metadata": {},
     "output_type": "execute_result"
    }
   ],
   "source": [
    "import numpy as np\n",
    "np.mean(df['trip_distance'])"
   ]
  },
  {
   "cell_type": "code",
   "execution_count": 9,
   "metadata": {},
   "outputs": [
    {
     "data": {
      "text/plain": [
       "1.78"
      ]
     },
     "execution_count": 9,
     "metadata": {},
     "output_type": "execute_result"
    }
   ],
   "source": [
    "np.median(df.trip_distance)"
   ]
  },
  {
   "cell_type": "code",
   "execution_count": 10,
   "metadata": {},
   "outputs": [
    {
     "data": {
      "text/html": [
       "<div>\n",
       "<style scoped>\n",
       "    .dataframe tbody tr th:only-of-type {\n",
       "        vertical-align: middle;\n",
       "    }\n",
       "\n",
       "    .dataframe tbody tr th {\n",
       "        vertical-align: top;\n",
       "    }\n",
       "\n",
       "    .dataframe thead th {\n",
       "        text-align: right;\n",
       "    }\n",
       "</style>\n",
       "<table border=\"1\" class=\"dataframe\">\n",
       "  <thead>\n",
       "    <tr style=\"text-align: right;\">\n",
       "      <th></th>\n",
       "      <th>trip_distance</th>\n",
       "      <th>total_amount</th>\n",
       "    </tr>\n",
       "  </thead>\n",
       "  <tbody>\n",
       "    <tr>\n",
       "      <td>116078</td>\n",
       "      <td>1.78</td>\n",
       "      <td>9.30</td>\n",
       "    </tr>\n",
       "    <tr>\n",
       "      <td>236038</td>\n",
       "      <td>6.52</td>\n",
       "      <td>19.80</td>\n",
       "    </tr>\n",
       "    <tr>\n",
       "      <td>104305</td>\n",
       "      <td>3.39</td>\n",
       "      <td>14.80</td>\n",
       "    </tr>\n",
       "    <tr>\n",
       "      <td>850954</td>\n",
       "      <td>0.56</td>\n",
       "      <td>8.62</td>\n",
       "    </tr>\n",
       "    <tr>\n",
       "      <td>679579</td>\n",
       "      <td>2.96</td>\n",
       "      <td>12.30</td>\n",
       "    </tr>\n",
       "    <tr>\n",
       "      <td>541508</td>\n",
       "      <td>4.40</td>\n",
       "      <td>0.00</td>\n",
       "    </tr>\n",
       "    <tr>\n",
       "      <td>692957</td>\n",
       "      <td>0.96</td>\n",
       "      <td>8.76</td>\n",
       "    </tr>\n",
       "    <tr>\n",
       "      <td>563194</td>\n",
       "      <td>7.22</td>\n",
       "      <td>23.80</td>\n",
       "    </tr>\n",
       "    <tr>\n",
       "      <td>39542</td>\n",
       "      <td>0.48</td>\n",
       "      <td>6.30</td>\n",
       "    </tr>\n",
       "    <tr>\n",
       "      <td>468890</td>\n",
       "      <td>1.29</td>\n",
       "      <td>7.80</td>\n",
       "    </tr>\n",
       "  </tbody>\n",
       "</table>\n",
       "</div>"
      ],
      "text/plain": [
       "        trip_distance  total_amount\n",
       "116078           1.78          9.30\n",
       "236038           6.52         19.80\n",
       "104305           3.39         14.80\n",
       "850954           0.56          8.62\n",
       "679579           2.96         12.30\n",
       "541508           4.40          0.00\n",
       "692957           0.96          8.76\n",
       "563194           7.22         23.80\n",
       "39542            0.48          6.30\n",
       "468890           1.29          7.80"
      ]
     },
     "execution_count": 10,
     "metadata": {},
     "output_type": "execute_result"
    }
   ],
   "source": [
    "cols = [\"trip_distance\", \"total_amount\"]\n",
    "df[cols].sample(10)  # double brackets: select columns    grabage in, gargage out\n",
    "# data intergrity"
   ]
  },
  {
   "cell_type": "code",
   "execution_count": 11,
   "metadata": {},
   "outputs": [
    {
     "data": {
      "text/html": [
       "<div>\n",
       "<style scoped>\n",
       "    .dataframe tbody tr th:only-of-type {\n",
       "        vertical-align: middle;\n",
       "    }\n",
       "\n",
       "    .dataframe tbody tr th {\n",
       "        vertical-align: top;\n",
       "    }\n",
       "\n",
       "    .dataframe thead th {\n",
       "        text-align: right;\n",
       "    }\n",
       "</style>\n",
       "<table border=\"1\" class=\"dataframe\">\n",
       "  <thead>\n",
       "    <tr style=\"text-align: right;\">\n",
       "      <th></th>\n",
       "      <th>lpep_pickup_datetime</th>\n",
       "      <th>lpep_dropoff_datetime</th>\n",
       "    </tr>\n",
       "  </thead>\n",
       "  <tbody>\n",
       "    <tr>\n",
       "      <td>532990</td>\n",
       "      <td>2017-06-16 23:32:44</td>\n",
       "      <td>2017-06-16 23:39:37</td>\n",
       "    </tr>\n",
       "    <tr>\n",
       "      <td>802724</td>\n",
       "      <td>2017-06-25 02:27:48</td>\n",
       "      <td>2017-06-25 02:34:19</td>\n",
       "    </tr>\n",
       "    <tr>\n",
       "      <td>239514</td>\n",
       "      <td>2017-06-08 09:43:54</td>\n",
       "      <td>2017-06-08 10:27:04</td>\n",
       "    </tr>\n",
       "    <tr>\n",
       "      <td>233356</td>\n",
       "      <td>2017-06-08 00:02:16</td>\n",
       "      <td>2017-06-08 00:15:00</td>\n",
       "    </tr>\n",
       "    <tr>\n",
       "      <td>287475</td>\n",
       "      <td>2017-06-09 17:02:33</td>\n",
       "      <td>2017-06-09 17:19:42</td>\n",
       "    </tr>\n",
       "    <tr>\n",
       "      <td>718322</td>\n",
       "      <td>2017-06-22 19:02:07</td>\n",
       "      <td>2017-06-22 19:19:35</td>\n",
       "    </tr>\n",
       "    <tr>\n",
       "      <td>931259</td>\n",
       "      <td>2017-06-29 18:56:52</td>\n",
       "      <td>2017-06-29 19:02:41</td>\n",
       "    </tr>\n",
       "    <tr>\n",
       "      <td>71068</td>\n",
       "      <td>2017-06-03 00:26:49</td>\n",
       "      <td>2017-06-03 00:53:19</td>\n",
       "    </tr>\n",
       "    <tr>\n",
       "      <td>15865</td>\n",
       "      <td>2017-06-01 15:34:50</td>\n",
       "      <td>2017-06-01 15:51:39</td>\n",
       "    </tr>\n",
       "    <tr>\n",
       "      <td>318939</td>\n",
       "      <td>2017-06-10 14:31:47</td>\n",
       "      <td>2017-06-10 14:51:06</td>\n",
       "    </tr>\n",
       "  </tbody>\n",
       "</table>\n",
       "</div>"
      ],
      "text/plain": [
       "       lpep_pickup_datetime lpep_dropoff_datetime\n",
       "532990  2017-06-16 23:32:44   2017-06-16 23:39:37\n",
       "802724  2017-06-25 02:27:48   2017-06-25 02:34:19\n",
       "239514  2017-06-08 09:43:54   2017-06-08 10:27:04\n",
       "233356  2017-06-08 00:02:16   2017-06-08 00:15:00\n",
       "287475  2017-06-09 17:02:33   2017-06-09 17:19:42\n",
       "718322  2017-06-22 19:02:07   2017-06-22 19:19:35\n",
       "931259  2017-06-29 18:56:52   2017-06-29 19:02:41\n",
       "71068   2017-06-03 00:26:49   2017-06-03 00:53:19\n",
       "15865   2017-06-01 15:34:50   2017-06-01 15:51:39\n",
       "318939  2017-06-10 14:31:47   2017-06-10 14:51:06"
      ]
     },
     "execution_count": 11,
     "metadata": {},
     "output_type": "execute_result"
    }
   ],
   "source": [
    "cols_selected = [col for col in df.columns if \"date\" in col.lower()]\n",
    "df[cols_selected].sample(10)"
   ]
  },
  {
   "cell_type": "code",
   "execution_count": 12,
   "metadata": {},
   "outputs": [
    {
     "data": {
      "text/plain": [
       "Index(['lpep_pickup_datetime', 'lpep_dropoff_datetime', 'store_and_fwd_flag',\n",
       "       'RatecodeID', 'PULocationID', 'DOLocationID', 'passenger_count',\n",
       "       'trip_distance', 'fare_amount', 'extra', 'mta_tax', 'tip_amount',\n",
       "       'tolls_amount', 'ehail_fee', 'improvement_surcharge', 'total_amount',\n",
       "       'payment_type', 'trip_type'],\n",
       "      dtype='object')"
      ]
     },
     "execution_count": 12,
     "metadata": {},
     "output_type": "execute_result"
    }
   ],
   "source": [
    "if \"VendorID\" in df.columns:\n",
    "    del df['VendorID']  # delete a column   df.drop([columns])\n",
    "df.columns"
   ]
  },
  {
   "cell_type": "code",
   "execution_count": 13,
   "metadata": {},
   "outputs": [
    {
     "name": "stdout",
     "output_type": "stream",
     "text": [
      "extra  is deleted\n",
      "mta_tax  is deleted\n",
      "tolls_amount  is deleted\n",
      "ehail_fee  is deleted\n"
     ]
    },
    {
     "data": {
      "text/plain": [
       "Index(['lpep_pickup_datetime', 'lpep_dropoff_datetime', 'store_and_fwd_flag',\n",
       "       'RatecodeID', 'PULocationID', 'DOLocationID', 'passenger_count',\n",
       "       'trip_distance', 'fare_amount', 'tip_amount', 'improvement_surcharge',\n",
       "       'total_amount', 'payment_type', 'trip_type'],\n",
       "      dtype='object')"
      ]
     },
     "execution_count": 13,
     "metadata": {},
     "output_type": "execute_result"
    }
   ],
   "source": [
    "cols_to_deleted = ['extra', \"mta_tax\", \"tolls_amount\", \"ehail_fee\"]\n",
    "for col in cols_to_deleted:\n",
    "    if col in df.columns:\n",
    "        del df[col]\n",
    "        print(col, \" is deleted\")\n",
    "    else:\n",
    "        print(col, \" no longer exists\")\n",
    "df.columns"
   ]
  },
  {
   "cell_type": "code",
   "execution_count": 14,
   "metadata": {},
   "outputs": [
    {
     "data": {
      "text/plain": [
       "Index(['lpep_pickup_datetime', 'lpep_dropoff_datetime', 'store_and_fwd_flag',\n",
       "       'RatecodeID', 'PULocationID', 'DOLocationID', 'passenger_count',\n",
       "       'trip_distance', 'fare_amount', 'tip_amount', 'improvement_surcharge',\n",
       "       'total_amount', 'payment_type', 'trip_type'],\n",
       "      dtype='object')"
      ]
     },
     "execution_count": 14,
     "metadata": {},
     "output_type": "execute_result"
    }
   ],
   "source": [
    "df.columns"
   ]
  },
  {
   "cell_type": "code",
   "execution_count": 15,
   "metadata": {},
   "outputs": [
    {
     "data": {
      "text/html": [
       "<div>\n",
       "<style scoped>\n",
       "    .dataframe tbody tr th:only-of-type {\n",
       "        vertical-align: middle;\n",
       "    }\n",
       "\n",
       "    .dataframe tbody tr th {\n",
       "        vertical-align: top;\n",
       "    }\n",
       "\n",
       "    .dataframe thead th {\n",
       "        text-align: right;\n",
       "    }\n",
       "</style>\n",
       "<table border=\"1\" class=\"dataframe\">\n",
       "  <thead>\n",
       "    <tr style=\"text-align: right;\">\n",
       "      <th></th>\n",
       "      <th>store_and_fwd_flag</th>\n",
       "      <th>RatecodeID</th>\n",
       "      <th>PULocationID</th>\n",
       "      <th>DOLocationID</th>\n",
       "      <th>passenger_count</th>\n",
       "      <th>trip_distance</th>\n",
       "    </tr>\n",
       "  </thead>\n",
       "  <tbody>\n",
       "    <tr>\n",
       "      <td>522354</td>\n",
       "      <td>N</td>\n",
       "      <td>1</td>\n",
       "      <td>41</td>\n",
       "      <td>239</td>\n",
       "      <td>1</td>\n",
       "      <td>2.83</td>\n",
       "    </tr>\n",
       "    <tr>\n",
       "      <td>927775</td>\n",
       "      <td>N</td>\n",
       "      <td>1</td>\n",
       "      <td>134</td>\n",
       "      <td>134</td>\n",
       "      <td>1</td>\n",
       "      <td>0.83</td>\n",
       "    </tr>\n",
       "    <tr>\n",
       "      <td>751142</td>\n",
       "      <td>N</td>\n",
       "      <td>1</td>\n",
       "      <td>181</td>\n",
       "      <td>228</td>\n",
       "      <td>1</td>\n",
       "      <td>2.44</td>\n",
       "    </tr>\n",
       "  </tbody>\n",
       "</table>\n",
       "</div>"
      ],
      "text/plain": [
       "       store_and_fwd_flag  RatecodeID  PULocationID  DOLocationID  \\\n",
       "522354                  N           1            41           239   \n",
       "927775                  N           1           134           134   \n",
       "751142                  N           1           181           228   \n",
       "\n",
       "        passenger_count  trip_distance  \n",
       "522354                1           2.83  \n",
       "927775                1           0.83  \n",
       "751142                1           2.44  "
      ]
     },
     "execution_count": 15,
     "metadata": {},
     "output_type": "execute_result"
    }
   ],
   "source": [
    "df[df.columns[2:8]].sample(3)"
   ]
  },
  {
   "cell_type": "code",
   "execution_count": 16,
   "metadata": {},
   "outputs": [
    {
     "data": {
      "text/html": [
       "<div>\n",
       "<style scoped>\n",
       "    .dataframe tbody tr th:only-of-type {\n",
       "        vertical-align: middle;\n",
       "    }\n",
       "\n",
       "    .dataframe tbody tr th {\n",
       "        vertical-align: top;\n",
       "    }\n",
       "\n",
       "    .dataframe thead th {\n",
       "        text-align: right;\n",
       "    }\n",
       "</style>\n",
       "<table border=\"1\" class=\"dataframe\">\n",
       "  <thead>\n",
       "    <tr style=\"text-align: right;\">\n",
       "      <th></th>\n",
       "      <th>lpep_pickup_datetime</th>\n",
       "      <th>lpep_dropoff_datetime</th>\n",
       "      <th>store_and_fwd_flag</th>\n",
       "      <th>RatecodeID</th>\n",
       "      <th>PULocationID</th>\n",
       "      <th>DOLocationID</th>\n",
       "      <th>passenger_count</th>\n",
       "      <th>trip_distance</th>\n",
       "      <th>fare_amount</th>\n",
       "      <th>tip_amount</th>\n",
       "      <th>improvement_surcharge</th>\n",
       "      <th>total_amount</th>\n",
       "      <th>payment_type</th>\n",
       "      <th>trip_type</th>\n",
       "    </tr>\n",
       "  </thead>\n",
       "  <tbody>\n",
       "    <tr>\n",
       "      <td>659331</td>\n",
       "      <td>2017-06-20 20:19:33</td>\n",
       "      <td>2017-06-20 20:27:16</td>\n",
       "      <td>N</td>\n",
       "      <td>1</td>\n",
       "      <td>242</td>\n",
       "      <td>60</td>\n",
       "      <td>1</td>\n",
       "      <td>2.02</td>\n",
       "      <td>8.0</td>\n",
       "      <td>0.0</td>\n",
       "      <td>0.3</td>\n",
       "      <td>9.3</td>\n",
       "      <td>2</td>\n",
       "      <td>1.0</td>\n",
       "    </tr>\n",
       "    <tr>\n",
       "      <td>567887</td>\n",
       "      <td>2017-06-17 21:14:51</td>\n",
       "      <td>2017-06-17 21:23:48</td>\n",
       "      <td>N</td>\n",
       "      <td>1</td>\n",
       "      <td>82</td>\n",
       "      <td>56</td>\n",
       "      <td>1</td>\n",
       "      <td>1.23</td>\n",
       "      <td>7.5</td>\n",
       "      <td>0.0</td>\n",
       "      <td>0.3</td>\n",
       "      <td>8.8</td>\n",
       "      <td>2</td>\n",
       "      <td>1.0</td>\n",
       "    </tr>\n",
       "    <tr>\n",
       "      <td>342021</td>\n",
       "      <td>2017-06-10 23:39:19</td>\n",
       "      <td>2017-06-11 00:00:06</td>\n",
       "      <td>N</td>\n",
       "      <td>1</td>\n",
       "      <td>130</td>\n",
       "      <td>7</td>\n",
       "      <td>1</td>\n",
       "      <td>9.80</td>\n",
       "      <td>28.0</td>\n",
       "      <td>7.5</td>\n",
       "      <td>0.3</td>\n",
       "      <td>36.8</td>\n",
       "      <td>1</td>\n",
       "      <td>1.0</td>\n",
       "    </tr>\n",
       "    <tr>\n",
       "      <td>5757</td>\n",
       "      <td>2017-06-01 08:14:30</td>\n",
       "      <td>2017-06-01 08:18:50</td>\n",
       "      <td>N</td>\n",
       "      <td>1</td>\n",
       "      <td>166</td>\n",
       "      <td>24</td>\n",
       "      <td>1</td>\n",
       "      <td>0.70</td>\n",
       "      <td>5.0</td>\n",
       "      <td>0.0</td>\n",
       "      <td>0.3</td>\n",
       "      <td>5.8</td>\n",
       "      <td>2</td>\n",
       "      <td>1.0</td>\n",
       "    </tr>\n",
       "    <tr>\n",
       "      <td>881008</td>\n",
       "      <td>2017-06-28 00:03:02</td>\n",
       "      <td>2017-06-28 00:12:46</td>\n",
       "      <td>N</td>\n",
       "      <td>1</td>\n",
       "      <td>37</td>\n",
       "      <td>76</td>\n",
       "      <td>1</td>\n",
       "      <td>2.25</td>\n",
       "      <td>9.5</td>\n",
       "      <td>0.0</td>\n",
       "      <td>0.3</td>\n",
       "      <td>10.8</td>\n",
       "      <td>2</td>\n",
       "      <td>1.0</td>\n",
       "    </tr>\n",
       "  </tbody>\n",
       "</table>\n",
       "</div>"
      ],
      "text/plain": [
       "       lpep_pickup_datetime lpep_dropoff_datetime store_and_fwd_flag  \\\n",
       "659331  2017-06-20 20:19:33   2017-06-20 20:27:16                  N   \n",
       "567887  2017-06-17 21:14:51   2017-06-17 21:23:48                  N   \n",
       "342021  2017-06-10 23:39:19   2017-06-11 00:00:06                  N   \n",
       "5757    2017-06-01 08:14:30   2017-06-01 08:18:50                  N   \n",
       "881008  2017-06-28 00:03:02   2017-06-28 00:12:46                  N   \n",
       "\n",
       "        RatecodeID  PULocationID  DOLocationID  passenger_count  \\\n",
       "659331           1           242            60                1   \n",
       "567887           1            82            56                1   \n",
       "342021           1           130             7                1   \n",
       "5757             1           166            24                1   \n",
       "881008           1            37            76                1   \n",
       "\n",
       "        trip_distance  fare_amount  tip_amount  improvement_surcharge  \\\n",
       "659331           2.02          8.0         0.0                    0.3   \n",
       "567887           1.23          7.5         0.0                    0.3   \n",
       "342021           9.80         28.0         7.5                    0.3   \n",
       "5757             0.70          5.0         0.0                    0.3   \n",
       "881008           2.25          9.5         0.0                    0.3   \n",
       "\n",
       "        total_amount  payment_type  trip_type  \n",
       "659331           9.3             2        1.0  \n",
       "567887           8.8             2        1.0  \n",
       "342021          36.8             1        1.0  \n",
       "5757             5.8             2        1.0  \n",
       "881008          10.8             2        1.0  "
      ]
     },
     "execution_count": 16,
     "metadata": {},
     "output_type": "execute_result"
    }
   ],
   "source": [
    "df.sample(5)"
   ]
  },
  {
   "cell_type": "code",
   "execution_count": 17,
   "metadata": {},
   "outputs": [
    {
     "data": {
      "text/plain": [
       "1     955195\n",
       "5      17811\n",
       "2       2293\n",
       "4        620\n",
       "3        525\n",
       "6         22\n",
       "99         1\n",
       "Name: RatecodeID, dtype: int64"
      ]
     },
     "execution_count": 17,
     "metadata": {},
     "output_type": "execute_result"
    }
   ],
   "source": [
    "# categorical variables\n",
    "ID_count = df['RatecodeID'].value_counts()\n",
    "ID_count"
   ]
  },
  {
   "cell_type": "code",
   "execution_count": 18,
   "metadata": {},
   "outputs": [
    {
     "data": {
      "text/plain": [
       "pandas.core.series.Series"
      ]
     },
     "execution_count": 18,
     "metadata": {},
     "output_type": "execute_result"
    }
   ],
   "source": [
    "type(ID_count) # panda series 1-D"
   ]
  },
  {
   "cell_type": "code",
   "execution_count": 19,
   "metadata": {},
   "outputs": [
    {
     "data": {
      "text/plain": [
       "Int64Index([1, 5, 2, 4, 3, 6, 99], dtype='int64')"
      ]
     },
     "execution_count": 19,
     "metadata": {},
     "output_type": "execute_result"
    }
   ],
   "source": [
    "ID_count.index  # row names"
   ]
  },
  {
   "cell_type": "code",
   "execution_count": 20,
   "metadata": {},
   "outputs": [
    {
     "data": {
      "text/plain": [
       "array([955195,  17811,   2293,    620,    525,     22,      1])"
      ]
     },
     "execution_count": 20,
     "metadata": {},
     "output_type": "execute_result"
    }
   ],
   "source": [
    "ID_count.values"
   ]
  },
  {
   "cell_type": "code",
   "execution_count": 21,
   "metadata": {},
   "outputs": [
    {
     "data": {
      "text/plain": [
       "955195"
      ]
     },
     "execution_count": 21,
     "metadata": {},
     "output_type": "execute_result"
    }
   ],
   "source": [
    "_[0]"
   ]
  },
  {
   "cell_type": "code",
   "execution_count": 22,
   "metadata": {},
   "outputs": [
    {
     "data": {
      "text/plain": [
       "1    823756\n",
       "2     78321\n",
       "5     32408\n",
       "3     19165\n",
       "6     16358\n",
       "4      6236\n",
       "0       181\n",
       "8        24\n",
       "7        12\n",
       "9         6\n",
       "Name: passenger_count, dtype: int64"
      ]
     },
     "execution_count": 22,
     "metadata": {},
     "output_type": "execute_result"
    }
   ],
   "source": [
    "df['passenger_count'].value_counts()  # data quality, data intergrity, trash in >> trash out"
   ]
  },
  {
   "cell_type": "code",
   "execution_count": 23,
   "metadata": {},
   "outputs": [
    {
     "data": {
      "text/html": [
       "<div>\n",
       "<style scoped>\n",
       "    .dataframe tbody tr th:only-of-type {\n",
       "        vertical-align: middle;\n",
       "    }\n",
       "\n",
       "    .dataframe tbody tr th {\n",
       "        vertical-align: top;\n",
       "    }\n",
       "\n",
       "    .dataframe thead th {\n",
       "        text-align: right;\n",
       "    }\n",
       "</style>\n",
       "<table border=\"1\" class=\"dataframe\">\n",
       "  <thead>\n",
       "    <tr style=\"text-align: right;\">\n",
       "      <th></th>\n",
       "      <th>lpep_pickup_datetime</th>\n",
       "      <th>lpep_dropoff_datetime</th>\n",
       "      <th>store_and_fwd_flag</th>\n",
       "      <th>RatecodeID</th>\n",
       "      <th>PULocationID</th>\n",
       "      <th>DOLocationID</th>\n",
       "      <th>passenger_count</th>\n",
       "      <th>trip_distance</th>\n",
       "      <th>fare_amount</th>\n",
       "      <th>tip_amount</th>\n",
       "      <th>improvement_surcharge</th>\n",
       "      <th>total_amount</th>\n",
       "      <th>payment_type</th>\n",
       "      <th>trip_type</th>\n",
       "    </tr>\n",
       "  </thead>\n",
       "  <tbody>\n",
       "    <tr>\n",
       "      <td>479450</td>\n",
       "      <td>2017-06-15 14:35:55</td>\n",
       "      <td>2017-06-15 14:44:13</td>\n",
       "      <td>N</td>\n",
       "      <td>1</td>\n",
       "      <td>40</td>\n",
       "      <td>25</td>\n",
       "      <td>1</td>\n",
       "      <td>1.06</td>\n",
       "      <td>7.0</td>\n",
       "      <td>0.0</td>\n",
       "      <td>0.3</td>\n",
       "      <td>7.8</td>\n",
       "      <td>2</td>\n",
       "      <td>1.0</td>\n",
       "    </tr>\n",
       "    <tr>\n",
       "      <td>213134</td>\n",
       "      <td>2017-06-07 12:55:35</td>\n",
       "      <td>2017-06-07 13:29:18</td>\n",
       "      <td>N</td>\n",
       "      <td>1</td>\n",
       "      <td>25</td>\n",
       "      <td>37</td>\n",
       "      <td>1</td>\n",
       "      <td>3.84</td>\n",
       "      <td>22.5</td>\n",
       "      <td>0.0</td>\n",
       "      <td>0.3</td>\n",
       "      <td>23.3</td>\n",
       "      <td>2</td>\n",
       "      <td>1.0</td>\n",
       "    </tr>\n",
       "  </tbody>\n",
       "</table>\n",
       "</div>"
      ],
      "text/plain": [
       "       lpep_pickup_datetime lpep_dropoff_datetime store_and_fwd_flag  \\\n",
       "479450  2017-06-15 14:35:55   2017-06-15 14:44:13                  N   \n",
       "213134  2017-06-07 12:55:35   2017-06-07 13:29:18                  N   \n",
       "\n",
       "        RatecodeID  PULocationID  DOLocationID  passenger_count  \\\n",
       "479450           1            40            25                1   \n",
       "213134           1            25            37                1   \n",
       "\n",
       "        trip_distance  fare_amount  tip_amount  improvement_surcharge  \\\n",
       "479450           1.06          7.0         0.0                    0.3   \n",
       "213134           3.84         22.5         0.0                    0.3   \n",
       "\n",
       "        total_amount  payment_type  trip_type  \n",
       "479450           7.8             2        1.0  \n",
       "213134          23.3             2        1.0  "
      ]
     },
     "execution_count": 23,
     "metadata": {},
     "output_type": "execute_result"
    }
   ],
   "source": [
    "df.sample(2)"
   ]
  },
  {
   "cell_type": "code",
   "execution_count": 24,
   "metadata": {},
   "outputs": [
    {
     "name": "stdout",
     "output_type": "stream",
     "text": [
      "store_and_fwd_flag\n",
      "N    975149\n",
      "Y      1318\n",
      "Name: store_and_fwd_flag, dtype: int64\n",
      "\n",
      "RatecodeID\n",
      "1     955195\n",
      "5      17811\n",
      "2       2293\n",
      "4        620\n",
      "3        525\n",
      "6         22\n",
      "99         1\n",
      "Name: RatecodeID, dtype: int64\n",
      "\n",
      "PULocationID\n",
      "74     60216\n",
      "41     55204\n",
      "75     52559\n",
      "7      50607\n",
      "82     43359\n",
      "       ...  \n",
      "231        1\n",
      "84         1\n",
      "204        1\n",
      "114        1\n",
      "229        1\n",
      "Name: PULocationID, Length: 239, dtype: int64\n",
      "\n",
      "DOLocationID\n",
      "74     33283\n",
      "42     32215\n",
      "7      31130\n",
      "41     29045\n",
      "129    27945\n",
      "       ...  \n",
      "204        4\n",
      "176        4\n",
      "109        4\n",
      "99         3\n",
      "84         1\n",
      "Name: DOLocationID, Length: 259, dtype: int64\n",
      "\n",
      "passenger_count\n",
      "1    823756\n",
      "2     78321\n",
      "5     32408\n",
      "3     19165\n",
      "6     16358\n",
      "4      6236\n",
      "0       181\n",
      "8        24\n",
      "7        12\n",
      "9         6\n",
      "Name: passenger_count, dtype: int64\n",
      "\n",
      "payment_type\n",
      "1    485221\n",
      "2    484102\n",
      "3      4362\n",
      "4      2747\n",
      "5        35\n",
      "Name: payment_type, dtype: int64\n",
      "\n",
      "trip_type\n",
      "1.0    958592\n",
      "2.0     17874\n",
      "Name: trip_type, dtype: int64\n",
      "\n"
     ]
    }
   ],
   "source": [
    "col_to_count = df.columns[[2, 3, 4, 5, 6, -2, -1 ]]  # fancy indexing  automation\n",
    "for col in col_to_count:\n",
    "    print(col)\n",
    "    print(df[col].value_counts())\n",
    "    print()"
   ]
  },
  {
   "cell_type": "code",
   "execution_count": 25,
   "metadata": {},
   "outputs": [
    {
     "data": {
      "text/plain": [
       "74     33283\n",
       "42     32215\n",
       "7      31130\n",
       "41     29045\n",
       "129    27945\n",
       "181    24957\n",
       "75     21078\n",
       "82     19772\n",
       "223    17976\n",
       "166    17248\n",
       "Name: DOLocationID, dtype: int64"
      ]
     },
     "execution_count": 25,
     "metadata": {},
     "output_type": "execute_result"
    }
   ],
   "source": [
    "DO = df[\"DOLocationID\"].value_counts()  \n",
    "DO[:10]"
   ]
  },
  {
   "cell_type": "code",
   "execution_count": 26,
   "metadata": {},
   "outputs": [],
   "source": [
    "import os\n",
    "if not os.path.exists(\"figs\"):\n",
    "    os.makedirs(\"figs\")"
   ]
  },
  {
   "cell_type": "code",
   "execution_count": 27,
   "metadata": {},
   "outputs": [
    {
     "data": {
      "image/png": "[encoded data removed]",
      "text/plain": [
       "<Figure size 432x288 with 1 Axes>"
      ]
     },
     "metadata": {
      "needs_background": "light"
     },
     "output_type": "display_data"
    }
   ],
   "source": [
    "# histogram: univariate analysis\n",
    "%matplotlib inline\n",
    "import matplotlib.pyplot as plt\n",
    "plt.hist(df['trip_distance'])  # skewed to the left\n",
    "plt.show()"
   ]
  },
  {
   "cell_type": "code",
   "execution_count": 28,
   "metadata": {},
   "outputs": [
    {
     "data": {
      "text/html": [
       "<div>\n",
       "<style scoped>\n",
       "    .dataframe tbody tr th:only-of-type {\n",
       "        vertical-align: middle;\n",
       "    }\n",
       "\n",
       "    .dataframe tbody tr th {\n",
       "        vertical-align: top;\n",
       "    }\n",
       "\n",
       "    .dataframe thead th {\n",
       "        text-align: right;\n",
       "    }\n",
       "</style>\n",
       "<table border=\"1\" class=\"dataframe\">\n",
       "  <thead>\n",
       "    <tr style=\"text-align: right;\">\n",
       "      <th></th>\n",
       "      <th>trip_distance</th>\n",
       "      <th>total_amount</th>\n",
       "    </tr>\n",
       "  </thead>\n",
       "  <tbody>\n",
       "    <tr>\n",
       "      <td>43605</td>\n",
       "      <td>119.34</td>\n",
       "      <td>423.32</td>\n",
       "    </tr>\n",
       "    <tr>\n",
       "      <td>275322</td>\n",
       "      <td>170.59</td>\n",
       "      <td>102.30</td>\n",
       "    </tr>\n",
       "    <tr>\n",
       "      <td>480046</td>\n",
       "      <td>103.91</td>\n",
       "      <td>90.00</td>\n",
       "    </tr>\n",
       "    <tr>\n",
       "      <td>501985</td>\n",
       "      <td>142.44</td>\n",
       "      <td>422.56</td>\n",
       "    </tr>\n",
       "    <tr>\n",
       "      <td>618718</td>\n",
       "      <td>126.98</td>\n",
       "      <td>90.00</td>\n",
       "    </tr>\n",
       "    <tr>\n",
       "      <td>791032</td>\n",
       "      <td>100.62</td>\n",
       "      <td>524.22</td>\n",
       "    </tr>\n",
       "    <tr>\n",
       "      <td>816982</td>\n",
       "      <td>100.37</td>\n",
       "      <td>485.30</td>\n",
       "    </tr>\n",
       "    <tr>\n",
       "      <td>859596</td>\n",
       "      <td>122.52</td>\n",
       "      <td>371.80</td>\n",
       "    </tr>\n",
       "    <tr>\n",
       "      <td>926258</td>\n",
       "      <td>133.75</td>\n",
       "      <td>663.32</td>\n",
       "    </tr>\n",
       "  </tbody>\n",
       "</table>\n",
       "</div>"
      ],
      "text/plain": [
       "        trip_distance  total_amount\n",
       "43605          119.34        423.32\n",
       "275322         170.59        102.30\n",
       "480046         103.91         90.00\n",
       "501985         142.44        422.56\n",
       "618718         126.98         90.00\n",
       "791032         100.62        524.22\n",
       "816982         100.37        485.30\n",
       "859596         122.52        371.80\n",
       "926258         133.75        663.32"
      ]
     },
     "execution_count": 28,
     "metadata": {},
     "output_type": "execute_result"
    }
   ],
   "source": [
    "df[df['trip_distance'] > 100][[\"trip_distance\", \"total_amount\"]] #boolean indexing"
   ]
  },
  {
   "cell_type": "code",
   "execution_count": 29,
   "metadata": {},
   "outputs": [
    {
     "data": {
      "text/plain": [
       "0.011847814621487464"
      ]
     },
     "execution_count": 29,
     "metadata": {},
     "output_type": "execute_result"
    }
   ],
   "source": [
    "(df['trip_distance'] == 0).mean()"
   ]
  },
  {
   "cell_type": "code",
   "execution_count": 30,
   "metadata": {},
   "outputs": [
    {
     "data": {
      "text/plain": [
       "1.1847814621487465"
      ]
     },
     "execution_count": 30,
     "metadata": {},
     "output_type": "execute_result"
    }
   ],
   "source": [
    "df[df['trip_distance'] == 0].shape[0] /df.shape[0] * 100"
   ]
  },
  {
   "cell_type": "code",
   "execution_count": 31,
   "metadata": {},
   "outputs": [
    {
     "name": "stdout",
     "output_type": "stream",
     "text": [
      "8.03 0.2\n"
     ]
    }
   ],
   "source": [
    "high_cut = df['trip_distance'].quantile(0.95)\n",
    "low_cut = df['trip_distance'].quantile(0.02)\n",
    "print(high_cut, low_cut)"
   ]
  },
  {
   "cell_type": "code",
   "execution_count": 32,
   "metadata": {},
   "outputs": [
    {
     "data": {
      "image/png": "[encoded data removed]",
      "text/plain": [
       "<Figure size 432x288 with 1 Axes>"
      ]
     },
     "metadata": {
      "needs_background": "light"
     },
     "output_type": "display_data"
    }
   ],
   "source": [
    "import matplotlib.pyplot as plt\n",
    "col = \"trip_distance\"\n",
    "maxcut = df[col].quantile(.99)\n",
    "mincut = df[col].quantile(.01)\n",
    "temp = df[(df[col] < maxcut) & (df[col] > mincut)][col]  #subsetting\n",
    "plt.hist(temp, bins = 100)\n",
    "plt.xlabel(col, fontsize =18)\n",
    "plt.ylabel('Probability',fontsize =18)\n",
    "plt.title(col + ' Histogram Plot',fontsize =18, color = \"r\")\n",
    "plt.savefig(\"figs/\" + col +\".png\",dpi=100) # univariate anaysis\n",
    "plt.show()"
   ]
  },
  {
   "cell_type": "code",
   "execution_count": 44,
   "metadata": {
    "scrolled": true
   },
   "outputs": [
    {
     "name": "stderr",
     "output_type": "stream",
     "text": [
      "/opt/anaconda3/lib/python3.7/site-packages/ipykernel_launcher.py:7: UserWarning: Boolean Series key will be reindexed to match DataFrame index.\n",
      "  import sys\n",
      "/opt/anaconda3/lib/python3.7/site-packages/ipykernel_launcher.py:8: MatplotlibDeprecationWarning: \n",
      "The 'normed' kwarg was deprecated in Matplotlib 2.1 and will be removed in 3.1. Use 'density' instead.\n",
      "  \n"
     ]
    },
    {
     "data": {
      "image/png": "[encoded data removed]",
      "text/plain": [
       "<Figure size 432x288 with 1 Axes>"
      ]
     },
     "metadata": {
      "needs_background": "light"
     },
     "output_type": "display_data"
    },
    {
     "data": {
      "image/png": "[encoded data removed]",
      "text/plain": [
       "<Figure size 432x288 with 1 Axes>"
      ]
     },
     "metadata": {
      "needs_background": "light"
     },
     "output_type": "display_data"
    },
    {
     "data": {
      "image/png": "[encoded data removed]",
      "text/plain": [
       "<Figure size 432x288 with 1 Axes>"
      ]
     },
     "metadata": {
      "needs_background": "light"
     },
     "output_type": "display_data"
    }
   ],
   "source": [
    "import matplotlib.pyplot as plt\n",
    "continuous_cols = ['trip_distance', 'total_amount','fare_amount']\n",
    "for col in continuous_cols:\n",
    "    if col not in df.columns: continue\n",
    "    maxcut = df[col].quantile(.99)   # cap and floor\n",
    "    mincut = df[col].quantile(.01)\n",
    "    temp = df[df[col] < maxcut][df[col] > mincut][col]\n",
    "    plt.hist(temp, bins = 250, normed=1, facecolor='red')\n",
    "    plt.xlabel(col, fontsize =18)\n",
    "    plt.ylabel('Probability',fontsize =18)\n",
    "    plt.title(col + ' Histogram Plot',fontsize =18)\n",
    "    plt.grid(True)\n",
    "    plt.savefig(\"figs/\" + col +\".png\",dpi=100)\n",
    "    plt.show()\n",
    "    del temp"
   ]
  },
  {
   "cell_type": "code",
   "execution_count": 45,
   "metadata": {},
   "outputs": [
    {
     "data": {
      "text/html": [
       "<div>\n",
       "<style scoped>\n",
       "    .dataframe tbody tr th:only-of-type {\n",
       "        vertical-align: middle;\n",
       "    }\n",
       "\n",
       "    .dataframe tbody tr th {\n",
       "        vertical-align: top;\n",
       "    }\n",
       "\n",
       "    .dataframe thead th {\n",
       "        text-align: right;\n",
       "    }\n",
       "</style>\n",
       "<table border=\"1\" class=\"dataframe\">\n",
       "  <thead>\n",
       "    <tr style=\"text-align: right;\">\n",
       "      <th></th>\n",
       "      <th>lpep_pickup_datetime</th>\n",
       "      <th>lpep_dropoff_datetime</th>\n",
       "      <th>store_and_fwd_flag</th>\n",
       "      <th>RatecodeID</th>\n",
       "      <th>PULocationID</th>\n",
       "      <th>DOLocationID</th>\n",
       "      <th>passenger_count</th>\n",
       "      <th>trip_distance</th>\n",
       "      <th>fare_amount</th>\n",
       "      <th>tip_amount</th>\n",
       "      <th>improvement_surcharge</th>\n",
       "      <th>total_amount</th>\n",
       "      <th>payment_type</th>\n",
       "      <th>trip_type</th>\n",
       "      <th>weekday</th>\n",
       "      <th>weekday2</th>\n",
       "      <th>trip_time_in_minutes</th>\n",
       "    </tr>\n",
       "  </thead>\n",
       "  <tbody>\n",
       "    <tr>\n",
       "      <td>0</td>\n",
       "      <td>2017-06-01 00:33:45</td>\n",
       "      <td>2017-06-01 01:39:52</td>\n",
       "      <td>N</td>\n",
       "      <td>4</td>\n",
       "      <td>35</td>\n",
       "      <td>265</td>\n",
       "      <td>1</td>\n",
       "      <td>90.41</td>\n",
       "      <td>404.5</td>\n",
       "      <td>0.00</td>\n",
       "      <td>0.3</td>\n",
       "      <td>413.51</td>\n",
       "      <td>2</td>\n",
       "      <td>1.0</td>\n",
       "      <td>3</td>\n",
       "      <td>3</td>\n",
       "      <td>66.116667</td>\n",
       "    </tr>\n",
       "    <tr>\n",
       "      <td>1</td>\n",
       "      <td>2017-06-01 00:33:55</td>\n",
       "      <td>2017-06-01 23:36:23</td>\n",
       "      <td>N</td>\n",
       "      <td>1</td>\n",
       "      <td>263</td>\n",
       "      <td>75</td>\n",
       "      <td>1</td>\n",
       "      <td>0.38</td>\n",
       "      <td>4.0</td>\n",
       "      <td>1.59</td>\n",
       "      <td>0.3</td>\n",
       "      <td>6.89</td>\n",
       "      <td>1</td>\n",
       "      <td>1.0</td>\n",
       "      <td>3</td>\n",
       "      <td>3</td>\n",
       "      <td>1382.466667</td>\n",
       "    </tr>\n",
       "    <tr>\n",
       "      <td>2</td>\n",
       "      <td>2017-06-01 00:12:07</td>\n",
       "      <td>2017-06-01 00:12:07</td>\n",
       "      <td>N</td>\n",
       "      <td>1</td>\n",
       "      <td>255</td>\n",
       "      <td>43</td>\n",
       "      <td>1</td>\n",
       "      <td>9.49</td>\n",
       "      <td>31.0</td>\n",
       "      <td>8.08</td>\n",
       "      <td>0.3</td>\n",
       "      <td>40.38</td>\n",
       "      <td>1</td>\n",
       "      <td>1.0</td>\n",
       "      <td>3</td>\n",
       "      <td>3</td>\n",
       "      <td>0.000000</td>\n",
       "    </tr>\n",
       "  </tbody>\n",
       "</table>\n",
       "</div>"
      ],
      "text/plain": [
       "  lpep_pickup_datetime lpep_dropoff_datetime store_and_fwd_flag  RatecodeID  \\\n",
       "0  2017-06-01 00:33:45   2017-06-01 01:39:52                  N           4   \n",
       "1  2017-06-01 00:33:55   2017-06-01 23:36:23                  N           1   \n",
       "2  2017-06-01 00:12:07   2017-06-01 00:12:07                  N           1   \n",
       "\n",
       "   PULocationID  DOLocationID  passenger_count  trip_distance  fare_amount  \\\n",
       "0            35           265                1          90.41        404.5   \n",
       "1           263            75                1           0.38          4.0   \n",
       "2           255            43                1           9.49         31.0   \n",
       "\n",
       "   tip_amount  improvement_surcharge  total_amount  payment_type  trip_type  \\\n",
       "0        0.00                    0.3        413.51             2        1.0   \n",
       "1        1.59                    0.3          6.89             1        1.0   \n",
       "2        8.08                    0.3         40.38             1        1.0   \n",
       "\n",
       "   weekday  weekday2  trip_time_in_minutes  \n",
       "0        3         3             66.116667  \n",
       "1        3         3           1382.466667  \n",
       "2        3         3              0.000000  "
      ]
     },
     "execution_count": 45,
     "metadata": {},
     "output_type": "execute_result"
    }
   ],
   "source": [
    "df.head(3)"
   ]
  },
  {
   "cell_type": "code",
   "execution_count": 46,
   "metadata": {},
   "outputs": [
    {
     "data": {
      "text/plain": [
       "lpep_pickup_datetime     datetime64[ns]\n",
       "lpep_dropoff_datetime    datetime64[ns]\n",
       "store_and_fwd_flag               object\n",
       "RatecodeID                        int64\n",
       "PULocationID                      int64\n",
       "DOLocationID                      int64\n",
       "passenger_count                   int64\n",
       "trip_distance                   float64\n",
       "fare_amount                     float64\n",
       "tip_amount                      float64\n",
       "improvement_surcharge           float64\n",
       "total_amount                    float64\n",
       "payment_type                      int64\n",
       "trip_type                       float64\n",
       "weekday                           int64\n",
       "weekday2                          int64\n",
       "trip_time_in_minutes            float64\n",
       "dtype: object"
      ]
     },
     "execution_count": 46,
     "metadata": {},
     "output_type": "execute_result"
    }
   ],
   "source": [
    "datetime_cols = [col for col in df.columns if \"datetime\" in col]\n",
    "format_dt = \"%Y-%m-%dT%H:%M:%S\"\n",
    "for col in datetime_cols:\n",
    "    df[col] = pd.to_datetime(df[col], format = format_dt)\n",
    "df.dtypes"
   ]
  },
  {
   "cell_type": "code",
   "execution_count": 47,
   "metadata": {},
   "outputs": [],
   "source": [
    "# df['weekday'] = df['lpep_pickup_datetime'].weekday()"
   ]
  },
  {
   "cell_type": "code",
   "execution_count": 48,
   "metadata": {},
   "outputs": [
    {
     "data": {
      "text/html": [
       "<div>\n",
       "<style scoped>\n",
       "    .dataframe tbody tr th:only-of-type {\n",
       "        vertical-align: middle;\n",
       "    }\n",
       "\n",
       "    .dataframe tbody tr th {\n",
       "        vertical-align: top;\n",
       "    }\n",
       "\n",
       "    .dataframe thead th {\n",
       "        text-align: right;\n",
       "    }\n",
       "</style>\n",
       "<table border=\"1\" class=\"dataframe\">\n",
       "  <thead>\n",
       "    <tr style=\"text-align: right;\">\n",
       "      <th></th>\n",
       "      <th>lpep_pickup_datetime</th>\n",
       "      <th>weekday</th>\n",
       "      <th>weekday2</th>\n",
       "    </tr>\n",
       "  </thead>\n",
       "  <tbody>\n",
       "    <tr>\n",
       "      <td>208471</td>\n",
       "      <td>2017-06-07 09:51:04</td>\n",
       "      <td>2</td>\n",
       "      <td>2</td>\n",
       "    </tr>\n",
       "    <tr>\n",
       "      <td>555084</td>\n",
       "      <td>2017-06-17 15:48:34</td>\n",
       "      <td>5</td>\n",
       "      <td>5</td>\n",
       "    </tr>\n",
       "    <tr>\n",
       "      <td>161691</td>\n",
       "      <td>2017-06-05 16:34:50</td>\n",
       "      <td>0</td>\n",
       "      <td>0</td>\n",
       "    </tr>\n",
       "    <tr>\n",
       "      <td>167294</td>\n",
       "      <td>2017-06-05 19:45:30</td>\n",
       "      <td>0</td>\n",
       "      <td>0</td>\n",
       "    </tr>\n",
       "    <tr>\n",
       "      <td>622566</td>\n",
       "      <td>2017-06-19 16:42:33</td>\n",
       "      <td>0</td>\n",
       "      <td>0</td>\n",
       "    </tr>\n",
       "    <tr>\n",
       "      <td>787936</td>\n",
       "      <td>2017-06-24 19:35:10</td>\n",
       "      <td>5</td>\n",
       "      <td>5</td>\n",
       "    </tr>\n",
       "    <tr>\n",
       "      <td>274319</td>\n",
       "      <td>2017-06-09 10:30:18</td>\n",
       "      <td>4</td>\n",
       "      <td>4</td>\n",
       "    </tr>\n",
       "    <tr>\n",
       "      <td>926831</td>\n",
       "      <td>2017-06-29 16:30:51</td>\n",
       "      <td>3</td>\n",
       "      <td>3</td>\n",
       "    </tr>\n",
       "    <tr>\n",
       "      <td>366769</td>\n",
       "      <td>2017-06-11 17:06:37</td>\n",
       "      <td>6</td>\n",
       "      <td>6</td>\n",
       "    </tr>\n",
       "    <tr>\n",
       "      <td>176155</td>\n",
       "      <td>2017-06-06 07:57:42</td>\n",
       "      <td>1</td>\n",
       "      <td>1</td>\n",
       "    </tr>\n",
       "  </tbody>\n",
       "</table>\n",
       "</div>"
      ],
      "text/plain": [
       "       lpep_pickup_datetime  weekday  weekday2\n",
       "208471  2017-06-07 09:51:04        2         2\n",
       "555084  2017-06-17 15:48:34        5         5\n",
       "161691  2017-06-05 16:34:50        0         0\n",
       "167294  2017-06-05 19:45:30        0         0\n",
       "622566  2017-06-19 16:42:33        0         0\n",
       "787936  2017-06-24 19:35:10        5         5\n",
       "274319  2017-06-09 10:30:18        4         4\n",
       "926831  2017-06-29 16:30:51        3         3\n",
       "366769  2017-06-11 17:06:37        6         6\n",
       "176155  2017-06-06 07:57:42        1         1"
      ]
     },
     "execution_count": 48,
     "metadata": {},
     "output_type": "execute_result"
    }
   ],
   "source": [
    "def get_weekday(x):\n",
    "    return x.weekday()\n",
    "df['weekday'] = df['lpep_pickup_datetime'].apply(get_weekday)  # elementwise operation\n",
    "df['weekday2'] = df['lpep_pickup_datetime'].apply(lambda x: x.weekday())   # function used only once and very simple\n",
    "df[['lpep_pickup_datetime', 'weekday','weekday2']].sample(10)"
   ]
  },
  {
   "cell_type": "code",
   "execution_count": 49,
   "metadata": {},
   "outputs": [
    {
     "data": {
      "text/plain": [
       "4    179916\n",
       "5    159519\n",
       "3    157853\n",
       "6    130317\n",
       "2    119530\n",
       "1    117798\n",
       "0    111534\n",
       "Name: weekday, dtype: int64"
      ]
     },
     "execution_count": 49,
     "metadata": {},
     "output_type": "execute_result"
    }
   ],
   "source": [
    "df['weekday'].value_counts()"
   ]
  },
  {
   "cell_type": "code",
   "execution_count": 50,
   "metadata": {},
   "outputs": [
    {
     "name": "stdout",
     "output_type": "stream",
     "text": [
      "8\n"
     ]
    }
   ],
   "source": [
    "print(3 +  # line continuation\n",
    "      5)"
   ]
  },
  {
   "cell_type": "code",
   "execution_count": 51,
   "metadata": {},
   "outputs": [],
   "source": [
    "df['trip_time_in_minutes'] = (df['lpep_dropoff_datetime']- df['lpep_pickup_datetime']\n",
    "                             ).\\\n",
    "                             apply(lambda x: x.total_seconds())/60 "
   ]
  },
  {
   "cell_type": "code",
   "execution_count": 52,
   "metadata": {},
   "outputs": [
    {
     "data": {
      "text/html": [
       "<div>\n",
       "<style scoped>\n",
       "    .dataframe tbody tr th:only-of-type {\n",
       "        vertical-align: middle;\n",
       "    }\n",
       "\n",
       "    .dataframe tbody tr th {\n",
       "        vertical-align: top;\n",
       "    }\n",
       "\n",
       "    .dataframe thead th {\n",
       "        text-align: right;\n",
       "    }\n",
       "</style>\n",
       "<table border=\"1\" class=\"dataframe\">\n",
       "  <thead>\n",
       "    <tr style=\"text-align: right;\">\n",
       "      <th></th>\n",
       "      <th>speed</th>\n",
       "      <th>trip_distance</th>\n",
       "      <th>trip_time_in_minutes</th>\n",
       "    </tr>\n",
       "  </thead>\n",
       "  <tbody>\n",
       "    <tr>\n",
       "      <td>930255</td>\n",
       "      <td>6.190476</td>\n",
       "      <td>0.65</td>\n",
       "      <td>6.300000</td>\n",
       "    </tr>\n",
       "    <tr>\n",
       "      <td>372523</td>\n",
       "      <td>11.152941</td>\n",
       "      <td>1.58</td>\n",
       "      <td>8.500000</td>\n",
       "    </tr>\n",
       "    <tr>\n",
       "      <td>256923</td>\n",
       "      <td>15.932773</td>\n",
       "      <td>3.16</td>\n",
       "      <td>11.900000</td>\n",
       "    </tr>\n",
       "    <tr>\n",
       "      <td>274918</td>\n",
       "      <td>11.070615</td>\n",
       "      <td>1.35</td>\n",
       "      <td>7.316667</td>\n",
       "    </tr>\n",
       "    <tr>\n",
       "      <td>532356</td>\n",
       "      <td>26.855474</td>\n",
       "      <td>5.11</td>\n",
       "      <td>11.416667</td>\n",
       "    </tr>\n",
       "    <tr>\n",
       "      <td>713714</td>\n",
       "      <td>10.152761</td>\n",
       "      <td>2.40</td>\n",
       "      <td>14.183333</td>\n",
       "    </tr>\n",
       "    <tr>\n",
       "      <td>698967</td>\n",
       "      <td>12.033149</td>\n",
       "      <td>1.21</td>\n",
       "      <td>6.033333</td>\n",
       "    </tr>\n",
       "    <tr>\n",
       "      <td>334343</td>\n",
       "      <td>0.000000</td>\n",
       "      <td>0.00</td>\n",
       "      <td>96.450000</td>\n",
       "    </tr>\n",
       "    <tr>\n",
       "      <td>150932</td>\n",
       "      <td>7.792683</td>\n",
       "      <td>1.42</td>\n",
       "      <td>10.933333</td>\n",
       "    </tr>\n",
       "    <tr>\n",
       "      <td>389918</td>\n",
       "      <td>28.965517</td>\n",
       "      <td>14.00</td>\n",
       "      <td>29.000000</td>\n",
       "    </tr>\n",
       "  </tbody>\n",
       "</table>\n",
       "</div>"
      ],
      "text/plain": [
       "            speed  trip_distance  trip_time_in_minutes\n",
       "930255   6.190476           0.65              6.300000\n",
       "372523  11.152941           1.58              8.500000\n",
       "256923  15.932773           3.16             11.900000\n",
       "274918  11.070615           1.35              7.316667\n",
       "532356  26.855474           5.11             11.416667\n",
       "713714  10.152761           2.40             14.183333\n",
       "698967  12.033149           1.21              6.033333\n",
       "334343   0.000000           0.00             96.450000\n",
       "150932   7.792683           1.42             10.933333\n",
       "389918  28.965517          14.00             29.000000"
      ]
     },
     "execution_count": 52,
     "metadata": {},
     "output_type": "execute_result"
    }
   ],
   "source": [
    "df['speed'] = df['trip_distance'] / df['trip_time_in_minutes'] * 60\n",
    "df[['speed','trip_distance','trip_time_in_minutes']].sample(10)"
   ]
  },
  {
   "cell_type": "code",
   "execution_count": 53,
   "metadata": {
    "scrolled": true
   },
   "outputs": [
    {
     "name": "stderr",
     "output_type": "stream",
     "text": [
      "/opt/anaconda3/lib/python3.7/site-packages/ipykernel_launcher.py:7: UserWarning: Boolean Series key will be reindexed to match DataFrame index.\n",
      "  import sys\n",
      "/opt/anaconda3/lib/python3.7/site-packages/ipykernel_launcher.py:8: MatplotlibDeprecationWarning: \n",
      "The 'normed' kwarg was deprecated in Matplotlib 2.1 and will be removed in 3.1. Use 'density' instead.\n",
      "  \n"
     ]
    },
    {
     "data": {
      "image/png": "[encoded data removed]",
      "text/plain": [
       "<Figure size 432x288 with 1 Axes>"
      ]
     },
     "metadata": {
      "needs_background": "light"
     },
     "output_type": "display_data"
    },
    {
     "data": {
      "image/png": "[encoded data removed]",
      "text/plain": [
       "<Figure size 432x288 with 1 Axes>"
      ]
     },
     "metadata": {
      "needs_background": "light"
     },
     "output_type": "display_data"
    },
    {
     "data": {
      "image/png": "[encoded data removed]",
      "text/plain": [
       "<Figure size 432x288 with 1 Axes>"
      ]
     },
     "metadata": {
      "needs_background": "light"
     },
     "output_type": "display_data"
    },
    {
     "data": {
      "image/png": "[encoded data removed]",
      "text/plain": [
       "<Figure size 432x288 with 1 Axes>"
      ]
     },
     "metadata": {
      "needs_background": "light"
     },
     "output_type": "display_data"
    },
    {
     "data": {
      "image/png": "[encoded data removed]",
      "text/plain": [
       "<Figure size 432x288 with 1 Axes>"
      ]
     },
     "metadata": {
      "needs_background": "light"
     },
     "output_type": "display_data"
    }
   ],
   "source": [
    "import matplotlib.pyplot as plt\n",
    "continuous_cols = ['trip_distance', 'total_amount','fare_amount', 'trip_time_in_minutes','speed']\n",
    "for col in continuous_cols:\n",
    "    if col not in df.columns: continuec\n",
    "    maxcut = df[col].quantile(.99)\n",
    "    mincut = df[col].quantile(.01)\n",
    "    temp = df[df[col] < maxcut][df[col] > mincut][col]\n",
    "    plt.hist(temp, bins = 250, normed=1, facecolor='red')\n",
    "    plt.xlabel(col, fontsize =18)\n",
    "    plt.ylabel('Probability',fontsize =18)\n",
    "    plt.title(col + ' Histogram Plot',fontsize =18)\n",
    "    plt.grid(True)\n",
    "    plt.savefig(\"figs/\" + col +\".png\",dpi=100)\n",
    "    plt.show()\n",
    "    del temp"
   ]
  },
  {
   "cell_type": "markdown",
   "metadata": {},
   "source": [
    "### Report mean and median trip distance grouped by hour of day.\n",
    "\n",
    "Next we will create a new column hour based on pickup time. Then we can do some aggregation like mean and median distance by hour. "
   ]
  },
  {
   "cell_type": "code",
   "execution_count": 54,
   "metadata": {},
   "outputs": [
    {
     "data": {
      "text/html": [
       "<div>\n",
       "<style scoped>\n",
       "    .dataframe tbody tr th:only-of-type {\n",
       "        vertical-align: middle;\n",
       "    }\n",
       "\n",
       "    .dataframe tbody tr th {\n",
       "        vertical-align: top;\n",
       "    }\n",
       "\n",
       "    .dataframe thead th {\n",
       "        text-align: right;\n",
       "    }\n",
       "</style>\n",
       "<table border=\"1\" class=\"dataframe\">\n",
       "  <thead>\n",
       "    <tr style=\"text-align: right;\">\n",
       "      <th></th>\n",
       "      <th>lpep_pickup_datetime</th>\n",
       "      <th>hour</th>\n",
       "    </tr>\n",
       "  </thead>\n",
       "  <tbody>\n",
       "    <tr>\n",
       "      <td>892926</td>\n",
       "      <td>2017-06-28 14:35:54</td>\n",
       "      <td>14</td>\n",
       "    </tr>\n",
       "    <tr>\n",
       "      <td>568222</td>\n",
       "      <td>2017-06-17 21:56:18</td>\n",
       "      <td>21</td>\n",
       "    </tr>\n",
       "    <tr>\n",
       "      <td>798100</td>\n",
       "      <td>2017-06-25 00:58:39</td>\n",
       "      <td>0</td>\n",
       "    </tr>\n",
       "    <tr>\n",
       "      <td>214546</td>\n",
       "      <td>2017-06-07 13:27:24</td>\n",
       "      <td>13</td>\n",
       "    </tr>\n",
       "    <tr>\n",
       "      <td>930256</td>\n",
       "      <td>2017-06-29 18:02:01</td>\n",
       "      <td>18</td>\n",
       "    </tr>\n",
       "    <tr>\n",
       "      <td>267751</td>\n",
       "      <td>2017-06-09 04:37:32</td>\n",
       "      <td>4</td>\n",
       "    </tr>\n",
       "    <tr>\n",
       "      <td>618196</td>\n",
       "      <td>2017-06-19 13:10:09</td>\n",
       "      <td>13</td>\n",
       "    </tr>\n",
       "    <tr>\n",
       "      <td>929360</td>\n",
       "      <td>2017-06-29 18:55:16</td>\n",
       "      <td>18</td>\n",
       "    </tr>\n",
       "    <tr>\n",
       "      <td>799731</td>\n",
       "      <td>2017-06-25 01:46:18</td>\n",
       "      <td>1</td>\n",
       "    </tr>\n",
       "    <tr>\n",
       "      <td>161809</td>\n",
       "      <td>2017-06-05 16:28:13</td>\n",
       "      <td>16</td>\n",
       "    </tr>\n",
       "  </tbody>\n",
       "</table>\n",
       "</div>"
      ],
      "text/plain": [
       "       lpep_pickup_datetime  hour\n",
       "892926  2017-06-28 14:35:54    14\n",
       "568222  2017-06-17 21:56:18    21\n",
       "798100  2017-06-25 00:58:39     0\n",
       "214546  2017-06-07 13:27:24    13\n",
       "930256  2017-06-29 18:02:01    18\n",
       "267751  2017-06-09 04:37:32     4\n",
       "618196  2017-06-19 13:10:09    13\n",
       "929360  2017-06-29 18:55:16    18\n",
       "799731  2017-06-25 01:46:18     1\n",
       "161809  2017-06-05 16:28:13    16"
      ]
     },
     "execution_count": 54,
     "metadata": {},
     "output_type": "execute_result"
    }
   ],
   "source": [
    "df['hour'] = df['lpep_pickup_datetime'].apply(lambda x: x.hour)\n",
    "df[['lpep_pickup_datetime','hour']].sample(10)"
   ]
  },
  {
   "cell_type": "code",
   "execution_count": 55,
   "metadata": {},
   "outputs": [
    {
     "data": {
      "text/html": [
       "<div>\n",
       "<style scoped>\n",
       "    .dataframe tbody tr th:only-of-type {\n",
       "        vertical-align: middle;\n",
       "    }\n",
       "\n",
       "    .dataframe tbody tr th {\n",
       "        vertical-align: top;\n",
       "    }\n",
       "\n",
       "    .dataframe thead th {\n",
       "        text-align: right;\n",
       "    }\n",
       "</style>\n",
       "<table border=\"1\" class=\"dataframe\">\n",
       "  <thead>\n",
       "    <tr style=\"text-align: right;\">\n",
       "      <th></th>\n",
       "      <th>mean</th>\n",
       "      <th>median</th>\n",
       "    </tr>\n",
       "    <tr>\n",
       "      <th>hour</th>\n",
       "      <th></th>\n",
       "      <th></th>\n",
       "    </tr>\n",
       "  </thead>\n",
       "  <tbody>\n",
       "    <tr>\n",
       "      <td>0</td>\n",
       "      <td>2.912433</td>\n",
       "      <td>2.00</td>\n",
       "    </tr>\n",
       "    <tr>\n",
       "      <td>1</td>\n",
       "      <td>2.863342</td>\n",
       "      <td>1.97</td>\n",
       "    </tr>\n",
       "    <tr>\n",
       "      <td>2</td>\n",
       "      <td>2.994534</td>\n",
       "      <td>2.03</td>\n",
       "    </tr>\n",
       "    <tr>\n",
       "      <td>3</td>\n",
       "      <td>3.157933</td>\n",
       "      <td>2.17</td>\n",
       "    </tr>\n",
       "    <tr>\n",
       "      <td>4</td>\n",
       "      <td>3.514272</td>\n",
       "      <td>2.40</td>\n",
       "    </tr>\n",
       "    <tr>\n",
       "      <td>5</td>\n",
       "      <td>3.994923</td>\n",
       "      <td>2.74</td>\n",
       "    </tr>\n",
       "    <tr>\n",
       "      <td>6</td>\n",
       "      <td>3.813422</td>\n",
       "      <td>2.55</td>\n",
       "    </tr>\n",
       "    <tr>\n",
       "      <td>7</td>\n",
       "      <td>3.032450</td>\n",
       "      <td>1.95</td>\n",
       "    </tr>\n",
       "    <tr>\n",
       "      <td>8</td>\n",
       "      <td>2.736165</td>\n",
       "      <td>1.75</td>\n",
       "    </tr>\n",
       "    <tr>\n",
       "      <td>9</td>\n",
       "      <td>2.717343</td>\n",
       "      <td>1.72</td>\n",
       "    </tr>\n",
       "    <tr>\n",
       "      <td>10</td>\n",
       "      <td>2.711775</td>\n",
       "      <td>1.74</td>\n",
       "    </tr>\n",
       "    <tr>\n",
       "      <td>11</td>\n",
       "      <td>2.695731</td>\n",
       "      <td>1.74</td>\n",
       "    </tr>\n",
       "    <tr>\n",
       "      <td>12</td>\n",
       "      <td>2.626603</td>\n",
       "      <td>1.70</td>\n",
       "    </tr>\n",
       "    <tr>\n",
       "      <td>13</td>\n",
       "      <td>2.653614</td>\n",
       "      <td>1.70</td>\n",
       "    </tr>\n",
       "    <tr>\n",
       "      <td>14</td>\n",
       "      <td>2.610122</td>\n",
       "      <td>1.68</td>\n",
       "    </tr>\n",
       "    <tr>\n",
       "      <td>15</td>\n",
       "      <td>2.593356</td>\n",
       "      <td>1.70</td>\n",
       "    </tr>\n",
       "    <tr>\n",
       "      <td>16</td>\n",
       "      <td>2.487774</td>\n",
       "      <td>1.65</td>\n",
       "    </tr>\n",
       "    <tr>\n",
       "      <td>17</td>\n",
       "      <td>2.411828</td>\n",
       "      <td>1.64</td>\n",
       "    </tr>\n",
       "    <tr>\n",
       "      <td>18</td>\n",
       "      <td>2.367460</td>\n",
       "      <td>1.62</td>\n",
       "    </tr>\n",
       "    <tr>\n",
       "      <td>19</td>\n",
       "      <td>2.405492</td>\n",
       "      <td>1.64</td>\n",
       "    </tr>\n",
       "    <tr>\n",
       "      <td>20</td>\n",
       "      <td>2.520430</td>\n",
       "      <td>1.71</td>\n",
       "    </tr>\n",
       "    <tr>\n",
       "      <td>21</td>\n",
       "      <td>2.772117</td>\n",
       "      <td>1.84</td>\n",
       "    </tr>\n",
       "    <tr>\n",
       "      <td>22</td>\n",
       "      <td>2.966351</td>\n",
       "      <td>1.98</td>\n",
       "    </tr>\n",
       "    <tr>\n",
       "      <td>23</td>\n",
       "      <td>2.960964</td>\n",
       "      <td>2.00</td>\n",
       "    </tr>\n",
       "  </tbody>\n",
       "</table>\n",
       "</div>"
      ],
      "text/plain": [
       "          mean  median\n",
       "hour                  \n",
       "0     2.912433    2.00\n",
       "1     2.863342    1.97\n",
       "2     2.994534    2.03\n",
       "3     3.157933    2.17\n",
       "4     3.514272    2.40\n",
       "5     3.994923    2.74\n",
       "6     3.813422    2.55\n",
       "7     3.032450    1.95\n",
       "8     2.736165    1.75\n",
       "9     2.717343    1.72\n",
       "10    2.711775    1.74\n",
       "11    2.695731    1.74\n",
       "12    2.626603    1.70\n",
       "13    2.653614    1.70\n",
       "14    2.610122    1.68\n",
       "15    2.593356    1.70\n",
       "16    2.487774    1.65\n",
       "17    2.411828    1.64\n",
       "18    2.367460    1.62\n",
       "19    2.405492    1.64\n",
       "20    2.520430    1.71\n",
       "21    2.772117    1.84\n",
       "22    2.966351    1.98\n",
       "23    2.960964    2.00"
      ]
     },
     "execution_count": 55,
     "metadata": {},
     "output_type": "execute_result"
    }
   ],
   "source": [
    "import numpy as np\n",
    "distance_by_hour = df.groupby('hour')['trip_distance'].agg([np.mean, np.median])  # consistent conclusion\n",
    "distance_by_hour"
   ]
  },
  {
   "cell_type": "code",
   "execution_count": 56,
   "metadata": {},
   "outputs": [
    {
     "data": {
      "image/png": "[encoded data removed]",
      "text/plain": [
       "<Figure size 432x288 with 1 Axes>"
      ]
     },
     "metadata": {
      "needs_background": "light"
     },
     "output_type": "display_data"
    }
   ],
   "source": [
    "plt.scatter(range(24), distance_by_hour[\"mean\"], c ='r',label = \"mean distance!!\", marker=\"*\") #  Ctrl + / to comment/uncomment\n",
    "plt.scatter(range(24), distance_by_hour['median'],c ='b',label = \"median distance\")\n",
    "plt.plot(distance_by_hour['mean'],c ='r',label = \"\")  # line plot\n",
    "plt.plot(distance_by_hour['median'],c ='b',label = \"\")\n",
    "legend = plt.legend(loc='upper right', fontsize='large')\n",
    "plt.axis([-1, 24, 1.5, 4.5])\n",
    "plt.xlabel('hour of the day', fontsize = 18, color =\"b\")\n",
    "plt.ylabel('Trip distance in miles', fontsize = 18, color = \"y\")\n",
    "plt.savefig(\"figs/by_hour_distance.png\", dpi = 100)\n",
    "plt.show()"
   ]
  },
  {
   "cell_type": "code",
   "execution_count": 57,
   "metadata": {},
   "outputs": [
    {
     "data": {
      "text/plain": [
       "<matplotlib.axes._subplots.AxesSubplot at 0x11f319c10>"
      ]
     },
     "execution_count": 57,
     "metadata": {},
     "output_type": "execute_result"
    },
    {
     "data": {
      "image/png": "[encoded data removed]",
      "text/plain": [
       "<Figure size 432x288 with 1 Axes>"
      ]
     },
     "metadata": {
      "needs_background": "light"
     },
     "output_type": "display_data"
    }
   ],
   "source": [
    "speed_by_hour = df[df['speed'] < 100].groupby('hour')['speed'].agg([np.mean, np.median])  # consistent conclusion\n",
    "speed_by_hour.plot()"
   ]
  },
  {
   "cell_type": "code",
   "execution_count": 58,
   "metadata": {},
   "outputs": [
    {
     "data": {
      "image/png": "[encoded data removed]",
      "text/plain": [
       "<Figure size 576x1152 with 2 Axes>"
      ]
     },
     "metadata": {
      "needs_background": "light"
     },
     "output_type": "display_data"
    }
   ],
   "source": [
    "df2 = df[df['speed'] < 100]\n",
    "plt.figure(figsize=(8,16))\n",
    "ax1 = plt.subplot(311)\n",
    "plt.scatter(range(24), speed_by_hour[\"mean\"], c ='r',label = \"mean speed\")\n",
    "plt.scatter(range(24), speed_by_hour['median'],c ='b',label = \"median speed\")\n",
    "plt.plot(range(24), speed_by_hour['mean'],c ='r',label = \"\")\n",
    "plt.plot(range(24), speed_by_hour['median'],c ='b',label = \"\")\n",
    "legend = plt.legend(loc='upper right', shadow=True, fontsize='x-large')\n",
    "plt.axis([-0.5, 24, 9, 20])\n",
    "\n",
    "plt.ylabel('speed of the trip in mph',fontsize=18)\n",
    "plt.setp(ax1.get_xticklabels(),fontsize=18)\n",
    "plt.setp(ax1.get_yticklabels(),fontsize=18)\n",
    "plt.xlabel('hour of the day',fontsize=18)\n",
    "ax2 = plt.subplot(312, sharex=ax1)\n",
    "plt.scatter(range(24), df2.groupby('hour')['speed'].count(), c ='r',label = \"taxi trip count\")\n",
    "legend = plt.legend(loc='right', shadow=True, fontsize='x-large')\n",
    "plt.plot(range(24), df.groupby('hour')['speed'].count(), c ='r')\n",
    "plt.axis([-0.5, 24, 0, 80000])\n",
    "plt.setp(ax2.get_xticklabels(),fontsize=18)\n",
    "plt.setp(ax2.get_yticklabels(),fontsize=10)\n",
    "plt.xlabel('hour of the day',fontsize=18)\n",
    "plt.ylabel('total taxi traffic',fontsize=18)\n",
    "plt.savefig(\"figs/by_hour.png\", dpi =100)\n",
    "plt.show()"
   ]
  },
  {
   "cell_type": "markdown",
   "metadata": {},
   "source": [
    "## Analyze LGA and JFK traffic by terminals"
   ]
  },
  {
   "cell_type": "code",
   "execution_count": 59,
   "metadata": {},
   "outputs": [
    {
     "name": "stdout",
     "output_type": "stream",
     "text": [
      "CPU times: user 2 µs, sys: 1 µs, total: 3 µs\n",
      "Wall time: 6.2 µs\n"
     ]
    }
   ],
   "source": [
    "%time\n",
    "import pandas as pd\n",
    "year, month = 2015, 9\n",
    "url = \"https://s3.amazonaws.com/nyc-tlc/trip+data/green_tripdata_%4d-%02d.csv\" % (year,month)\n",
    "raw_data = pd.read_csv(url)"
   ]
  },
  {
   "cell_type": "code",
   "execution_count": 60,
   "metadata": {},
   "outputs": [],
   "source": [
    "df = raw_data.copy()"
   ]
  },
  {
   "cell_type": "code",
   "execution_count": 61,
   "metadata": {},
   "outputs": [],
   "source": [
    "import matplotlib.pyplot as plt\n",
    "%matplotlib inline\n",
    "import numpy as np\n",
    "import pandas as pd"
   ]
  },
  {
   "cell_type": "code",
   "execution_count": 62,
   "metadata": {},
   "outputs": [
    {
     "data": {
      "text/plain": [
       "VendorID                          int64\n",
       "lpep_pickup_datetime     datetime64[ns]\n",
       "Lpep_dropoff_datetime    datetime64[ns]\n",
       "Store_and_fwd_flag               object\n",
       "RateCodeID                        int64\n",
       "Pickup_longitude                float64\n",
       "Pickup_latitude                 float64\n",
       "Dropoff_longitude               float64\n",
       "Dropoff_latitude                float64\n",
       "Passenger_count                   int64\n",
       "Trip_distance                   float64\n",
       "Fare_amount                     float64\n",
       "Extra                           float64\n",
       "MTA_tax                         float64\n",
       "Tip_amount                      float64\n",
       "Tolls_amount                    float64\n",
       "Ehail_fee                       float64\n",
       "improvement_surcharge           float64\n",
       "Total_amount                    float64\n",
       "Payment_type                      int64\n",
       "Trip_type                       float64\n",
       "dtype: object"
      ]
     },
     "execution_count": 62,
     "metadata": {},
     "output_type": "execute_result"
    }
   ],
   "source": [
    "datetime_cols = df.columns[1:3]\n",
    "format_dt = \"%Y-%m-%dT%H:%M:%S\"\n",
    "for col in datetime_cols:\n",
    "    df[col] = pd.to_datetime(df[col], format = format_dt)\n",
    "df.dtypes"
   ]
  },
  {
   "cell_type": "code",
   "execution_count": 63,
   "metadata": {},
   "outputs": [
    {
     "name": "stdout",
     "output_type": "stream",
     "text": [
      "LGA airport green taxi traffic:\n",
      "Terminal A :   Picking up 15  times  Dropping off 612  times\n",
      "Dropoff mean fare is:  26.38  dollars. The dropoff mean distance is:  6.02  miles\n",
      "Pickup mean fare is:  20.84  dollars. The pickup mean distance is:  4.88  miles\n",
      "\n",
      "Terminal B :   Picking up 146  times  Dropping off 11428  times\n",
      "Dropoff mean fare is:  25.56  dollars. The dropoff mean distance is:  6.08  miles\n",
      "Pickup mean fare is:  33.70  dollars. The pickup mean distance is:  4.09  miles\n",
      "\n",
      "Terminal C :   Picking up 106  times  Dropping off 5496  times\n",
      "Dropoff mean fare is:  28.46  dollars. The dropoff mean distance is:  6.83  miles\n",
      "Pickup mean fare is:  30.75  dollars. The pickup mean distance is:  4.66  miles\n",
      "\n",
      "Terminal D :   Picking up 52  times  Dropping off 3197  times\n",
      "Dropoff mean fare is:  28.13  dollars. The dropoff mean distance is:  6.74  miles\n",
      "Pickup mean fare is:  32.37  dollars. The pickup mean distance is:  2.78  miles\n",
      "\n",
      "LGA taxi traffic average distance is:  6.35  miles\n",
      "LGA taxi traffic average fare is:  26.83  dollars\n"
     ]
    },
    {
     "data": {
      "image/png": "[encoded data removed]",
      "text/plain": [
       "<Figure size 720x504 with 1 Axes>"
      ]
     },
     "metadata": {
      "needs_background": "light"
     },
     "output_type": "display_data"
    }
   ],
   "source": [
    "LGA_taxi = pd.DataFrame()\n",
    "terminals = [\"A\", \"B\", \"C\", \"D\"]\n",
    "colors = [\"red\",'blue','green','yellow']\n",
    "LGA = [[40.772562, -73.885640], [40.773893, -73.872204],[40.769722, -73.864659],[40.768702, -73.862036]]  #LGA terminal coordinates\n",
    "plt.figure(figsize=(10,7))\n",
    "plt.scatter(df['Dropoff_longitude'], df['Dropoff_latitude'],marker = '.')\n",
    "print( \"LGA airport green taxi traffic:\")\n",
    "for i in range(len(LGA)):\n",
    "    temp1 = df[(abs(df[\"Pickup_latitude\"] - LGA[i][0]) < 0.003) & (abs(df[\"Pickup_longitude\"] - LGA[i][1]) < 0.002)]\n",
    "    temp2 = df[(abs(df[\"Dropoff_latitude\"] - LGA[i][0]) < 0.003) & (abs(df[\"Dropoff_longitude\"] - LGA[i][1]) < 0.002)]\n",
    "    LGA_taxi = LGA_taxi.append(temp1)\n",
    "    LGA_taxi = LGA_taxi.append(temp2)\n",
    "    plt.scatter(temp2['Dropoff_longitude'], temp2['Dropoff_latitude'], color =colors[i],marker =\".\")\n",
    "    print (\"Terminal\", terminals[i], \":   Picking up\", temp1.shape[0], \" times\",\" Dropping off\", temp2.shape[0], \" times\" )\n",
    "    print (\"Dropoff mean fare is: \", \"{0:.2f}\".format(np.mean(temp2['Total_amount'])), \" dollars. The dropoff mean distance is: \",\\\n",
    "          \"{0:.2f}\".format(np.mean(temp2['Trip_distance'])), \" miles\")\n",
    "    print (\"Pickup mean fare is: \", \"{0:.2f}\".format(np.mean(temp1['Total_amount'])), \" dollars. The pickup mean distance is: \",\\\n",
    "          \"{0:.2f}\".format(np.mean(temp1['Trip_distance'])), \" miles\")\n",
    "    print ()\n",
    "\n",
    "LGA_count = LGA_taxi.shape[0]\n",
    "LGA_avg_distance = np.mean(LGA_taxi['Trip_distance'])\n",
    "LGA_avg_fare = np.mean(LGA_taxi['Total_amount'])\n",
    "\n",
    "print (\"LGA taxi traffic average distance is: \",\"{0:.2f}\".format(LGA_avg_distance), \" miles\")\n",
    "print (\"LGA taxi traffic average fare is: \", \"{0:.2f}\".format(LGA_avg_fare), \" dollars\")\n",
    "plt.xlim(-73.890, -73.858)\n",
    "plt.ylim(40.766, 40.776)\n",
    "plt.xlabel('Longitude near LGA airport')\n",
    "plt.ylabel('Latitude near LGA airport')\n",
    "plt.title(\"Green Taxi traffic near LGA airport\")\n",
    "plt.savefig(\"figs/LGA.png\", dpi = 100)"
   ]
  },
  {
   "cell_type": "code",
   "execution_count": 64,
   "metadata": {},
   "outputs": [
    {
     "name": "stdout",
     "output_type": "stream",
     "text": [
      "JFK total taxi traffic is:  13110  times in September 2015\n",
      "JFK taxi traffic average distance is:  13.59  miles\n",
      "JFK taxi traffic average fare is:  48.65  dollars\n"
     ]
    }
   ],
   "source": [
    "JFK = [40.646, -73.784]  #JFK terminal coordinates\n",
    "Pickup_at_JFK = df[(abs(df[\"Pickup_latitude\"] - JFK[0]) < 0.008) & (abs(df[\"Pickup_longitude\"] - JFK[1]) < 0.01)]\n",
    "Dropoff_at_JFK = df[(abs(df[\"Dropoff_latitude\"] - JFK[0]) < 0.008) & (abs(df[\"Dropoff_longitude\"] - JFK[1]) < 0.01)]\n",
    "JFK_taxi = Pickup_at_JFK.append(Dropoff_at_JFK)\n",
    "JFK_count = JFK_taxi.shape[0]\n",
    "JFK_avg_distance = np.mean(JFK_taxi['Trip_distance'])\n",
    "JFK_avg_fare = np.mean(JFK_taxi['Total_amount'])\n",
    "print (\"JFK total taxi traffic is: \", JFK_count, \" times in September 2015\")\n",
    "print( \"JFK taxi traffic average distance is: \",\"{0:.2f}\".format(JFK_avg_distance), \" miles\")\n",
    "print( \"JFK taxi traffic average fare is: \", \"{0:.2f}\".format(JFK_avg_fare), \" dollars\")"
   ]
  },
  {
   "cell_type": "code",
   "execution_count": 65,
   "metadata": {},
   "outputs": [],
   "source": [
    "NYC_count = df.shape[0]\n",
    "NYC_avg_distance = np.mean(df['Trip_distance'])\n",
    "NYC_avg_fare = np.mean(df['Total_amount'])"
   ]
  },
  {
   "cell_type": "code",
   "execution_count": 66,
   "metadata": {},
   "outputs": [
    {
     "data": {
      "image/png": "[encoded data removed]",
      "text/plain": [
       "<Figure size 432x288 with 1 Axes>"
      ]
     },
     "metadata": {
      "needs_background": "light"
     },
     "output_type": "display_data"
    }
   ],
   "source": [
    "index = np.arange(3)\n",
    "bar_width = 0.3\n",
    "opacity = 1\n",
    "rects1 = plt.bar(range(3), (JFK_avg_fare,LGA_avg_fare,NYC_avg_fare), bar_width, alpha=opacity, color='r', label='Average fare')\n",
    "plt.ylabel('Average Fare in dollars')\n",
    "plt.title('Average Fare Comparison among JFK, LGA and NYC')\n",
    "plt.xticks(index , ('JFK', 'LGA', 'NYC'))\n",
    "plt.legend()\n",
    "#plt.tight_layout()\n",
    "plt.savefig(\"figs/average_fare.png\")\n",
    "plt.show()"
   ]
  },
  {
   "cell_type": "code",
   "execution_count": 67,
   "metadata": {},
   "outputs": [
    {
     "name": "stdout",
     "output_type": "stream",
     "text": [
      "JFK total taxi traffic is:  13110 average fare is:  48.65 dollars, the average distance is: 13.59 miles\n",
      "LGA total taxi traffic is:  21052 average fare is:  26.83 dollars, the average distance is: 6.35  miles\n",
      "The total NYC traffic is: 1494926 average fare is:  15.03 dollars, the average distance is: 2.97  miles\n"
     ]
    }
   ],
   "source": [
    "print (\"JFK total taxi traffic is: \", JFK_count, \"average fare is: \", \\\n",
    "      \"{0:.2f}\".format(JFK_avg_fare), \"dollars,\", \"the average distance is:\", \"{0:.2f}\".format(JFK_avg_distance), \"miles\"\n",
    ")\n",
    "print (\"LGA total taxi traffic is: \", LGA_count, \"average fare is: \", \\\n",
    "      \"{0:.2f}\".format(LGA_avg_fare), \"dollars,\", \"the average distance is:\", \"{0:.2f}\".format(LGA_avg_distance), \" miles\")\n",
    "print (\"The total NYC traffic is:\", NYC_count, \"average fare is: \", \\\n",
    "      \"{0:.2f}\".format(NYC_avg_fare), \"dollars,\", \"the average distance is:\", \"{0:.2f}\".format(NYC_avg_distance), \" miles\")"
   ]
  },
  {
   "cell_type": "code",
   "execution_count": 68,
   "metadata": {},
   "outputs": [
    {
     "data": {
      "image/png": "[encoded data removed]",
      "text/plain": [
       "<Figure size 720x504 with 1 Axes>"
      ]
     },
     "metadata": {
      "needs_background": "light"
     },
     "output_type": "display_data"
    }
   ],
   "source": [
    "plt.figure(figsize=(10,7))\n",
    "plt.scatter(df['Dropoff_longitude'], df['Dropoff_latitude'], color = 'blue',marker='.')\n",
    "plt.xlim(-73.794,-73.774)\n",
    "plt.ylim(40.64,40.651)\n",
    "plt.xlabel('Longitude near JFK airport', fontsize =16)\n",
    "plt.ylabel('Latitude near JFK airport', fontsize =16)\n",
    "plt.title(\"Green Taxi traffic near JFK airport\", fontsize =16)\n",
    "plt.savefig(\"figs/JFK.png\",dpi = 100)\n",
    "# several terminals are clearly to be seen from this plot."
   ]
  },
  {
   "cell_type": "code",
   "execution_count": null,
   "metadata": {},
   "outputs": [],
   "source": []
  }
 ],
 "metadata": {
  "kernelspec": {
   "display_name": "Python 3",
   "language": "python",
   "name": "python3"
  },
  "language_info": {
   "codemirror_mode": {
    "name": "ipython",
    "version": 3
   },
   "file_extension": ".py",
   "mimetype": "text/x-python",
   "name": "python",
   "nbconvert_exporter": "python",
   "pygments_lexer": "ipython3",
   "version": "3.7.4"
  }
 },
 "nbformat": 4,
 "nbformat_minor": 2
}
